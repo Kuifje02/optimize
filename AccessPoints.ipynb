{
 "cells": [
  {
   "cell_type": "code",
   "execution_count": 2,
   "id": "e3202f69",
   "metadata": {},
   "outputs": [],
   "source": [
    "import pulp\n",
    "from random import choice"
   ]
  },
  {
   "cell_type": "markdown",
   "id": "cfb781be",
   "metadata": {},
   "source": [
    "# Data"
   ]
  },
  {
   "cell_type": "code",
   "execution_count": 34,
   "id": "2c048ac0",
   "metadata": {},
   "outputs": [],
   "source": [
    "# users\n",
    "users = [\"u_%s\" % k for k in range(50)]\n",
    "positions = [(choice(range(10)), choice(range(10))) for k in range(len(users))]\n",
    "position_user=dict(zip(users, positions))\n",
    "speed=[choice(range(5,10)) for k in range(len(users))]\n",
    "speed_user=dict(zip(users, speed))\n",
    "latency=[choice(range(3)) for k in range(len(users))]\n",
    "latency_user=dict(zip(users, latency))\n",
    "\n",
    "# access points\n",
    "access_points=[\"a_%s\" % k for k in range(8)]\n",
    "_range=[choice(range(5)) for k in range(len(access_points))]\n",
    "range_access_point=dict(zip(access_points, _range))\n",
    "speed=[choice(range(10)) for k in range(len(access_points))]\n",
    "speed_access_point=dict(zip(access_points, speed))\n",
    "\n",
    "# positions\n",
    "positions=[(i, j) for i in range(10) for j in range(10)]\n",
    "\n",
    "# distances\n",
    "dist={}\n",
    "for u in users:\n",
    "    for p in positions:\n",
    "        dist[(u, p)]=abs(position_user[u][0] - p[0]) + \\\n",
    "              abs(position_user[u][1] - p[1])\n",
    "\n",
    "\n",
    "# costs\n",
    "# liaisons = [(c, e) for c in clients for e in entrepots_candidats]\n",
    "c = {}\n",
    "for u in users:\n",
    "    for a in access_points:\n",
    "        c[(u,a)] = {}\n",
    "        for p in positions:\n",
    "            if dist[(u,p)] > range_access_point[a]:\n",
    "                c[(u,a)][p] = 0\n",
    "            else:\n",
    "                c[(u,a)][p] = speed_access_point[a]*speed_user[u]-latency_user[u]          "
   ]
  },
  {
   "cell_type": "markdown",
   "id": "d50d188b",
   "metadata": {},
   "source": [
    "# MIP"
   ]
  },
  {
   "cell_type": "code",
   "execution_count": 35,
   "id": "abbfe4d2",
   "metadata": {},
   "outputs": [],
   "source": [
    "# create problem\n",
    "prob = pulp.LpProblem(\"access_points\", pulp.LpMaximize)\n",
    "\n",
    "# define variables\n",
    "x = pulp.LpVariable.dicts(\"x\",\n",
    "                          (users, access_points, positions),\n",
    "                          cat=pulp.LpBinary)\n",
    "z = pulp.LpVariable.dicts(\"x\", (access_points, positions),\n",
    "                          cat=pulp.LpBinary)\n",
    "\n",
    "# objective functions\n",
    "prob += pulp.lpSum([\n",
    "    c[(u, a)][p] * x[u][a][p] for u in users for a in access_points for p in positions\n",
    "])\n",
    "\n",
    "# one access point per user\n",
    "for u in users:\n",
    "    prob += pulp.lpSum([x[u][a][p]\n",
    "                       for a in access_points for p in positions]) == 1\n",
    "\n",
    "# one position per access point\n",
    "for a in access_points:\n",
    "    prob += pulp.lpSum([z[a][p] for p in positions]) == 1\n",
    "    \n",
    "# at most one access point per position\n",
    "for p in positions:\n",
    "    prob += pulp.lpSum([z[a][p] for a in access_points]) <= 1\n",
    "    \n",
    "# variable consistency\n",
    "for u in users:\n",
    "    for a in access_points:\n",
    "        for p in positions:\n",
    "            prob += x[u][a][p] <= z[a][p]"
   ]
  },
  {
   "cell_type": "code",
   "execution_count": 36,
   "id": "091445b6",
   "metadata": {},
   "outputs": [
    {
     "data": {
      "text/plain": [
       "1"
      ]
     },
     "execution_count": 36,
     "metadata": {},
     "output_type": "execute_result"
    }
   ],
   "source": [
    "prob.solve()"
   ]
  },
  {
   "cell_type": "code",
   "execution_count": 42,
   "id": "3e04e9ac",
   "metadata": {},
   "outputs": [
    {
     "data": {
      "application/vnd.plotly.v1+json": {
       "config": {
        "plotlyServerURL": "https://plot.ly"
       },
       "data": [
        {
         "mode": "markers",
         "name": "users",
         "type": "scatter",
         "x": [
          7,
          5,
          1,
          7,
          8,
          7,
          1,
          5,
          9,
          6,
          7,
          9,
          3,
          2,
          6,
          1,
          3,
          7,
          5,
          4,
          9,
          6,
          2,
          8,
          9,
          9,
          3,
          2,
          9,
          0,
          4,
          5,
          1,
          0,
          9,
          9,
          6,
          5,
          2,
          1,
          3,
          3,
          7,
          4,
          9,
          6,
          0,
          8,
          7,
          2
         ],
         "y": [
          0,
          0,
          1,
          2,
          1,
          3,
          0,
          8,
          5,
          3,
          5,
          5,
          3,
          0,
          6,
          1,
          1,
          2,
          5,
          0,
          6,
          1,
          7,
          6,
          9,
          8,
          6,
          6,
          4,
          3,
          4,
          7,
          8,
          2,
          8,
          1,
          6,
          3,
          8,
          1,
          2,
          6,
          3,
          6,
          8,
          6,
          3,
          0,
          6,
          6
         ]
        },
        {
         "line": {
          "color": "green"
         },
         "mode": "lines",
         "name": "lines",
         "showlegend": false,
         "type": "scatter",
         "x": [
          7,
          8
         ],
         "y": [
          0,
          3
         ]
        },
        {
         "line": {
          "color": "green"
         },
         "mode": "lines",
         "name": "lines",
         "showlegend": false,
         "type": "scatter",
         "x": [
          5,
          2
         ],
         "y": [
          0,
          1
         ]
        },
        {
         "line": {
          "color": "green"
         },
         "mode": "lines",
         "name": "lines",
         "showlegend": false,
         "type": "scatter",
         "x": [
          1,
          2
         ],
         "y": [
          1,
          1
         ]
        },
        {
         "line": {
          "color": "green"
         },
         "mode": "lines",
         "name": "lines",
         "showlegend": false,
         "type": "scatter",
         "x": [
          7,
          8
         ],
         "y": [
          2,
          3
         ]
        },
        {
         "line": {
          "color": "green"
         },
         "mode": "lines",
         "name": "lines",
         "showlegend": false,
         "type": "scatter",
         "x": [
          8,
          8
         ],
         "y": [
          1,
          3
         ]
        },
        {
         "line": {
          "color": "green"
         },
         "mode": "lines",
         "name": "lines",
         "showlegend": false,
         "type": "scatter",
         "x": [
          7,
          8
         ],
         "y": [
          3,
          3
         ]
        },
        {
         "line": {
          "color": "green"
         },
         "mode": "lines",
         "name": "lines",
         "showlegend": false,
         "type": "scatter",
         "x": [
          1,
          2
         ],
         "y": [
          0,
          1
         ]
        },
        {
         "line": {
          "color": "green"
         },
         "mode": "lines",
         "name": "lines",
         "showlegend": false,
         "type": "scatter",
         "x": [
          5,
          3
         ],
         "y": [
          8,
          8
         ]
        },
        {
         "line": {
          "color": "green"
         },
         "mode": "lines",
         "name": "lines",
         "showlegend": false,
         "type": "scatter",
         "x": [
          9,
          8
         ],
         "y": [
          5,
          3
         ]
        },
        {
         "line": {
          "color": "green"
         },
         "mode": "lines",
         "name": "lines",
         "showlegend": false,
         "type": "scatter",
         "x": [
          6,
          8
         ],
         "y": [
          3,
          3
         ]
        },
        {
         "line": {
          "color": "green"
         },
         "mode": "lines",
         "name": "lines",
         "showlegend": false,
         "type": "scatter",
         "x": [
          7,
          8
         ],
         "y": [
          5,
          3
         ]
        },
        {
         "line": {
          "color": "green"
         },
         "mode": "lines",
         "name": "lines",
         "showlegend": false,
         "type": "scatter",
         "x": [
          9,
          8
         ],
         "y": [
          5,
          3
         ]
        },
        {
         "line": {
          "color": "green"
         },
         "mode": "lines",
         "name": "lines",
         "showlegend": false,
         "type": "scatter",
         "x": [
          3,
          2
         ],
         "y": [
          3,
          1
         ]
        },
        {
         "line": {
          "color": "green"
         },
         "mode": "lines",
         "name": "lines",
         "showlegend": false,
         "type": "scatter",
         "x": [
          2,
          2
         ],
         "y": [
          0,
          1
         ]
        },
        {
         "line": {
          "color": "green"
         },
         "mode": "lines",
         "name": "lines",
         "showlegend": false,
         "type": "scatter",
         "x": [
          6,
          4
         ],
         "y": [
          6,
          6
         ]
        },
        {
         "line": {
          "color": "green"
         },
         "mode": "lines",
         "name": "lines",
         "showlegend": false,
         "type": "scatter",
         "x": [
          1,
          2
         ],
         "y": [
          1,
          1
         ]
        },
        {
         "line": {
          "color": "green"
         },
         "mode": "lines",
         "name": "lines",
         "showlegend": false,
         "type": "scatter",
         "x": [
          3,
          2
         ],
         "y": [
          1,
          1
         ]
        },
        {
         "line": {
          "color": "green"
         },
         "mode": "lines",
         "name": "lines",
         "showlegend": false,
         "type": "scatter",
         "x": [
          7,
          8
         ],
         "y": [
          2,
          3
         ]
        },
        {
         "line": {
          "color": "green"
         },
         "mode": "lines",
         "name": "lines",
         "showlegend": false,
         "type": "scatter",
         "x": [
          5,
          4
         ],
         "y": [
          5,
          6
         ]
        },
        {
         "line": {
          "color": "green"
         },
         "mode": "lines",
         "name": "lines",
         "showlegend": false,
         "type": "scatter",
         "x": [
          4,
          2
         ],
         "y": [
          0,
          1
         ]
        },
        {
         "line": {
          "color": "green"
         },
         "mode": "lines",
         "name": "lines",
         "showlegend": false,
         "type": "scatter",
         "x": [
          9,
          8
         ],
         "y": [
          6,
          3
         ]
        },
        {
         "line": {
          "color": "green"
         },
         "mode": "lines",
         "name": "lines",
         "showlegend": false,
         "type": "scatter",
         "x": [
          6,
          8
         ],
         "y": [
          1,
          3
         ]
        },
        {
         "line": {
          "color": "green"
         },
         "mode": "lines",
         "name": "lines",
         "showlegend": false,
         "type": "scatter",
         "x": [
          2,
          3
         ],
         "y": [
          7,
          8
         ]
        },
        {
         "line": {
          "color": "green"
         },
         "mode": "lines",
         "name": "lines",
         "showlegend": false,
         "type": "scatter",
         "x": [
          8,
          8
         ],
         "y": [
          6,
          3
         ]
        },
        {
         "line": {
          "color": "green"
         },
         "mode": "lines",
         "name": "lines",
         "showlegend": false,
         "type": "scatter",
         "x": [
          9,
          8
         ],
         "y": [
          9,
          9
         ]
        },
        {
         "line": {
          "color": "green"
         },
         "mode": "lines",
         "name": "lines",
         "showlegend": false,
         "type": "scatter",
         "x": [
          9,
          9
         ],
         "y": [
          8,
          8
         ]
        },
        {
         "line": {
          "color": "green"
         },
         "mode": "lines",
         "name": "lines",
         "showlegend": false,
         "type": "scatter",
         "x": [
          3,
          4
         ],
         "y": [
          6,
          6
         ]
        },
        {
         "line": {
          "color": "green"
         },
         "mode": "lines",
         "name": "lines",
         "showlegend": false,
         "type": "scatter",
         "x": [
          2,
          4
         ],
         "y": [
          6,
          6
         ]
        },
        {
         "line": {
          "color": "green"
         },
         "mode": "lines",
         "name": "lines",
         "showlegend": false,
         "type": "scatter",
         "x": [
          9,
          8
         ],
         "y": [
          4,
          3
         ]
        },
        {
         "line": {
          "color": "green"
         },
         "mode": "lines",
         "name": "lines",
         "showlegend": false,
         "type": "scatter",
         "x": [
          0,
          2
         ],
         "y": [
          3,
          1
         ]
        },
        {
         "line": {
          "color": "green"
         },
         "mode": "lines",
         "name": "lines",
         "showlegend": false,
         "type": "scatter",
         "x": [
          4,
          4
         ],
         "y": [
          4,
          6
         ]
        },
        {
         "line": {
          "color": "green"
         },
         "mode": "lines",
         "name": "lines",
         "showlegend": false,
         "type": "scatter",
         "x": [
          5,
          4
         ],
         "y": [
          7,
          6
         ]
        },
        {
         "line": {
          "color": "green"
         },
         "mode": "lines",
         "name": "lines",
         "showlegend": false,
         "type": "scatter",
         "x": [
          1,
          3
         ],
         "y": [
          8,
          8
         ]
        },
        {
         "line": {
          "color": "green"
         },
         "mode": "lines",
         "name": "lines",
         "showlegend": false,
         "type": "scatter",
         "x": [
          0,
          2
         ],
         "y": [
          2,
          1
         ]
        },
        {
         "line": {
          "color": "green"
         },
         "mode": "lines",
         "name": "lines",
         "showlegend": false,
         "type": "scatter",
         "x": [
          9,
          9
         ],
         "y": [
          8,
          8
         ]
        },
        {
         "line": {
          "color": "green"
         },
         "mode": "lines",
         "name": "lines",
         "showlegend": false,
         "type": "scatter",
         "x": [
          9,
          8
         ],
         "y": [
          1,
          3
         ]
        },
        {
         "line": {
          "color": "green"
         },
         "mode": "lines",
         "name": "lines",
         "showlegend": false,
         "type": "scatter",
         "x": [
          6,
          4
         ],
         "y": [
          6,
          6
         ]
        },
        {
         "line": {
          "color": "green"
         },
         "mode": "lines",
         "name": "lines",
         "showlegend": false,
         "type": "scatter",
         "x": [
          5,
          8
         ],
         "y": [
          3,
          3
         ]
        },
        {
         "line": {
          "color": "green"
         },
         "mode": "lines",
         "name": "lines",
         "showlegend": false,
         "type": "scatter",
         "x": [
          2,
          3
         ],
         "y": [
          8,
          8
         ]
        },
        {
         "line": {
          "color": "green"
         },
         "mode": "lines",
         "name": "lines",
         "showlegend": false,
         "type": "scatter",
         "x": [
          1,
          2
         ],
         "y": [
          1,
          1
         ]
        },
        {
         "line": {
          "color": "green"
         },
         "mode": "lines",
         "name": "lines",
         "showlegend": false,
         "type": "scatter",
         "x": [
          3,
          2
         ],
         "y": [
          2,
          1
         ]
        },
        {
         "line": {
          "color": "green"
         },
         "mode": "lines",
         "name": "lines",
         "showlegend": false,
         "type": "scatter",
         "x": [
          3,
          4
         ],
         "y": [
          6,
          6
         ]
        },
        {
         "line": {
          "color": "green"
         },
         "mode": "lines",
         "name": "lines",
         "showlegend": false,
         "type": "scatter",
         "x": [
          7,
          8
         ],
         "y": [
          3,
          3
         ]
        },
        {
         "line": {
          "color": "green"
         },
         "mode": "lines",
         "name": "lines",
         "showlegend": false,
         "type": "scatter",
         "x": [
          4,
          4
         ],
         "y": [
          6,
          6
         ]
        },
        {
         "line": {
          "color": "green"
         },
         "mode": "lines",
         "name": "lines",
         "showlegend": false,
         "type": "scatter",
         "x": [
          9,
          9
         ],
         "y": [
          8,
          8
         ]
        },
        {
         "line": {
          "color": "green"
         },
         "mode": "lines",
         "name": "lines",
         "showlegend": false,
         "type": "scatter",
         "x": [
          6,
          4
         ],
         "y": [
          6,
          6
         ]
        },
        {
         "line": {
          "color": "green"
         },
         "mode": "lines",
         "name": "lines",
         "showlegend": false,
         "type": "scatter",
         "x": [
          0,
          2
         ],
         "y": [
          3,
          1
         ]
        },
        {
         "line": {
          "color": "green"
         },
         "mode": "lines",
         "name": "lines",
         "showlegend": false,
         "type": "scatter",
         "x": [
          8,
          8
         ],
         "y": [
          0,
          3
         ]
        },
        {
         "line": {
          "color": "green"
         },
         "mode": "lines",
         "name": "lines",
         "showlegend": false,
         "type": "scatter",
         "x": [
          7,
          8
         ],
         "y": [
          6,
          3
         ]
        },
        {
         "line": {
          "color": "green"
         },
         "mode": "lines",
         "name": "lines",
         "showlegend": false,
         "type": "scatter",
         "x": [
          2,
          4
         ],
         "y": [
          6,
          6
         ]
        },
        {
         "marker": {
          "color": "red",
          "size": 20
         },
         "mode": "markers",
         "name": "access_points",
         "type": "scatter",
         "x": [
          0,
          0,
          2,
          3,
          4,
          8,
          8,
          9
         ],
         "y": [
          0,
          3,
          1,
          8,
          6,
          3,
          9,
          8
         ]
        }
       ],
       "layout": {
        "template": {
         "data": {
          "bar": [
           {
            "error_x": {
             "color": "#2a3f5f"
            },
            "error_y": {
             "color": "#2a3f5f"
            },
            "marker": {
             "line": {
              "color": "#E5ECF6",
              "width": 0.5
             },
             "pattern": {
              "fillmode": "overlay",
              "size": 10,
              "solidity": 0.2
             }
            },
            "type": "bar"
           }
          ],
          "barpolar": [
           {
            "marker": {
             "line": {
              "color": "#E5ECF6",
              "width": 0.5
             },
             "pattern": {
              "fillmode": "overlay",
              "size": 10,
              "solidity": 0.2
             }
            },
            "type": "barpolar"
           }
          ],
          "carpet": [
           {
            "aaxis": {
             "endlinecolor": "#2a3f5f",
             "gridcolor": "white",
             "linecolor": "white",
             "minorgridcolor": "white",
             "startlinecolor": "#2a3f5f"
            },
            "baxis": {
             "endlinecolor": "#2a3f5f",
             "gridcolor": "white",
             "linecolor": "white",
             "minorgridcolor": "white",
             "startlinecolor": "#2a3f5f"
            },
            "type": "carpet"
           }
          ],
          "choropleth": [
           {
            "colorbar": {
             "outlinewidth": 0,
             "ticks": ""
            },
            "type": "choropleth"
           }
          ],
          "contour": [
           {
            "colorbar": {
             "outlinewidth": 0,
             "ticks": ""
            },
            "colorscale": [
             [
              0,
              "#0d0887"
             ],
             [
              0.1111111111111111,
              "#46039f"
             ],
             [
              0.2222222222222222,
              "#7201a8"
             ],
             [
              0.3333333333333333,
              "#9c179e"
             ],
             [
              0.4444444444444444,
              "#bd3786"
             ],
             [
              0.5555555555555556,
              "#d8576b"
             ],
             [
              0.6666666666666666,
              "#ed7953"
             ],
             [
              0.7777777777777778,
              "#fb9f3a"
             ],
             [
              0.8888888888888888,
              "#fdca26"
             ],
             [
              1,
              "#f0f921"
             ]
            ],
            "type": "contour"
           }
          ],
          "contourcarpet": [
           {
            "colorbar": {
             "outlinewidth": 0,
             "ticks": ""
            },
            "type": "contourcarpet"
           }
          ],
          "heatmap": [
           {
            "colorbar": {
             "outlinewidth": 0,
             "ticks": ""
            },
            "colorscale": [
             [
              0,
              "#0d0887"
             ],
             [
              0.1111111111111111,
              "#46039f"
             ],
             [
              0.2222222222222222,
              "#7201a8"
             ],
             [
              0.3333333333333333,
              "#9c179e"
             ],
             [
              0.4444444444444444,
              "#bd3786"
             ],
             [
              0.5555555555555556,
              "#d8576b"
             ],
             [
              0.6666666666666666,
              "#ed7953"
             ],
             [
              0.7777777777777778,
              "#fb9f3a"
             ],
             [
              0.8888888888888888,
              "#fdca26"
             ],
             [
              1,
              "#f0f921"
             ]
            ],
            "type": "heatmap"
           }
          ],
          "heatmapgl": [
           {
            "colorbar": {
             "outlinewidth": 0,
             "ticks": ""
            },
            "colorscale": [
             [
              0,
              "#0d0887"
             ],
             [
              0.1111111111111111,
              "#46039f"
             ],
             [
              0.2222222222222222,
              "#7201a8"
             ],
             [
              0.3333333333333333,
              "#9c179e"
             ],
             [
              0.4444444444444444,
              "#bd3786"
             ],
             [
              0.5555555555555556,
              "#d8576b"
             ],
             [
              0.6666666666666666,
              "#ed7953"
             ],
             [
              0.7777777777777778,
              "#fb9f3a"
             ],
             [
              0.8888888888888888,
              "#fdca26"
             ],
             [
              1,
              "#f0f921"
             ]
            ],
            "type": "heatmapgl"
           }
          ],
          "histogram": [
           {
            "marker": {
             "pattern": {
              "fillmode": "overlay",
              "size": 10,
              "solidity": 0.2
             }
            },
            "type": "histogram"
           }
          ],
          "histogram2d": [
           {
            "colorbar": {
             "outlinewidth": 0,
             "ticks": ""
            },
            "colorscale": [
             [
              0,
              "#0d0887"
             ],
             [
              0.1111111111111111,
              "#46039f"
             ],
             [
              0.2222222222222222,
              "#7201a8"
             ],
             [
              0.3333333333333333,
              "#9c179e"
             ],
             [
              0.4444444444444444,
              "#bd3786"
             ],
             [
              0.5555555555555556,
              "#d8576b"
             ],
             [
              0.6666666666666666,
              "#ed7953"
             ],
             [
              0.7777777777777778,
              "#fb9f3a"
             ],
             [
              0.8888888888888888,
              "#fdca26"
             ],
             [
              1,
              "#f0f921"
             ]
            ],
            "type": "histogram2d"
           }
          ],
          "histogram2dcontour": [
           {
            "colorbar": {
             "outlinewidth": 0,
             "ticks": ""
            },
            "colorscale": [
             [
              0,
              "#0d0887"
             ],
             [
              0.1111111111111111,
              "#46039f"
             ],
             [
              0.2222222222222222,
              "#7201a8"
             ],
             [
              0.3333333333333333,
              "#9c179e"
             ],
             [
              0.4444444444444444,
              "#bd3786"
             ],
             [
              0.5555555555555556,
              "#d8576b"
             ],
             [
              0.6666666666666666,
              "#ed7953"
             ],
             [
              0.7777777777777778,
              "#fb9f3a"
             ],
             [
              0.8888888888888888,
              "#fdca26"
             ],
             [
              1,
              "#f0f921"
             ]
            ],
            "type": "histogram2dcontour"
           }
          ],
          "mesh3d": [
           {
            "colorbar": {
             "outlinewidth": 0,
             "ticks": ""
            },
            "type": "mesh3d"
           }
          ],
          "parcoords": [
           {
            "line": {
             "colorbar": {
              "outlinewidth": 0,
              "ticks": ""
             }
            },
            "type": "parcoords"
           }
          ],
          "pie": [
           {
            "automargin": true,
            "type": "pie"
           }
          ],
          "scatter": [
           {
            "marker": {
             "colorbar": {
              "outlinewidth": 0,
              "ticks": ""
             }
            },
            "type": "scatter"
           }
          ],
          "scatter3d": [
           {
            "line": {
             "colorbar": {
              "outlinewidth": 0,
              "ticks": ""
             }
            },
            "marker": {
             "colorbar": {
              "outlinewidth": 0,
              "ticks": ""
             }
            },
            "type": "scatter3d"
           }
          ],
          "scattercarpet": [
           {
            "marker": {
             "colorbar": {
              "outlinewidth": 0,
              "ticks": ""
             }
            },
            "type": "scattercarpet"
           }
          ],
          "scattergeo": [
           {
            "marker": {
             "colorbar": {
              "outlinewidth": 0,
              "ticks": ""
             }
            },
            "type": "scattergeo"
           }
          ],
          "scattergl": [
           {
            "marker": {
             "colorbar": {
              "outlinewidth": 0,
              "ticks": ""
             }
            },
            "type": "scattergl"
           }
          ],
          "scattermapbox": [
           {
            "marker": {
             "colorbar": {
              "outlinewidth": 0,
              "ticks": ""
             }
            },
            "type": "scattermapbox"
           }
          ],
          "scatterpolar": [
           {
            "marker": {
             "colorbar": {
              "outlinewidth": 0,
              "ticks": ""
             }
            },
            "type": "scatterpolar"
           }
          ],
          "scatterpolargl": [
           {
            "marker": {
             "colorbar": {
              "outlinewidth": 0,
              "ticks": ""
             }
            },
            "type": "scatterpolargl"
           }
          ],
          "scatterternary": [
           {
            "marker": {
             "colorbar": {
              "outlinewidth": 0,
              "ticks": ""
             }
            },
            "type": "scatterternary"
           }
          ],
          "surface": [
           {
            "colorbar": {
             "outlinewidth": 0,
             "ticks": ""
            },
            "colorscale": [
             [
              0,
              "#0d0887"
             ],
             [
              0.1111111111111111,
              "#46039f"
             ],
             [
              0.2222222222222222,
              "#7201a8"
             ],
             [
              0.3333333333333333,
              "#9c179e"
             ],
             [
              0.4444444444444444,
              "#bd3786"
             ],
             [
              0.5555555555555556,
              "#d8576b"
             ],
             [
              0.6666666666666666,
              "#ed7953"
             ],
             [
              0.7777777777777778,
              "#fb9f3a"
             ],
             [
              0.8888888888888888,
              "#fdca26"
             ],
             [
              1,
              "#f0f921"
             ]
            ],
            "type": "surface"
           }
          ],
          "table": [
           {
            "cells": {
             "fill": {
              "color": "#EBF0F8"
             },
             "line": {
              "color": "white"
             }
            },
            "header": {
             "fill": {
              "color": "#C8D4E3"
             },
             "line": {
              "color": "white"
             }
            },
            "type": "table"
           }
          ]
         },
         "layout": {
          "annotationdefaults": {
           "arrowcolor": "#2a3f5f",
           "arrowhead": 0,
           "arrowwidth": 1
          },
          "autotypenumbers": "strict",
          "coloraxis": {
           "colorbar": {
            "outlinewidth": 0,
            "ticks": ""
           }
          },
          "colorscale": {
           "diverging": [
            [
             0,
             "#8e0152"
            ],
            [
             0.1,
             "#c51b7d"
            ],
            [
             0.2,
             "#de77ae"
            ],
            [
             0.3,
             "#f1b6da"
            ],
            [
             0.4,
             "#fde0ef"
            ],
            [
             0.5,
             "#f7f7f7"
            ],
            [
             0.6,
             "#e6f5d0"
            ],
            [
             0.7,
             "#b8e186"
            ],
            [
             0.8,
             "#7fbc41"
            ],
            [
             0.9,
             "#4d9221"
            ],
            [
             1,
             "#276419"
            ]
           ],
           "sequential": [
            [
             0,
             "#0d0887"
            ],
            [
             0.1111111111111111,
             "#46039f"
            ],
            [
             0.2222222222222222,
             "#7201a8"
            ],
            [
             0.3333333333333333,
             "#9c179e"
            ],
            [
             0.4444444444444444,
             "#bd3786"
            ],
            [
             0.5555555555555556,
             "#d8576b"
            ],
            [
             0.6666666666666666,
             "#ed7953"
            ],
            [
             0.7777777777777778,
             "#fb9f3a"
            ],
            [
             0.8888888888888888,
             "#fdca26"
            ],
            [
             1,
             "#f0f921"
            ]
           ],
           "sequentialminus": [
            [
             0,
             "#0d0887"
            ],
            [
             0.1111111111111111,
             "#46039f"
            ],
            [
             0.2222222222222222,
             "#7201a8"
            ],
            [
             0.3333333333333333,
             "#9c179e"
            ],
            [
             0.4444444444444444,
             "#bd3786"
            ],
            [
             0.5555555555555556,
             "#d8576b"
            ],
            [
             0.6666666666666666,
             "#ed7953"
            ],
            [
             0.7777777777777778,
             "#fb9f3a"
            ],
            [
             0.8888888888888888,
             "#fdca26"
            ],
            [
             1,
             "#f0f921"
            ]
           ]
          },
          "colorway": [
           "#636efa",
           "#EF553B",
           "#00cc96",
           "#ab63fa",
           "#FFA15A",
           "#19d3f3",
           "#FF6692",
           "#B6E880",
           "#FF97FF",
           "#FECB52"
          ],
          "font": {
           "color": "#2a3f5f"
          },
          "geo": {
           "bgcolor": "white",
           "lakecolor": "white",
           "landcolor": "#E5ECF6",
           "showlakes": true,
           "showland": true,
           "subunitcolor": "white"
          },
          "hoverlabel": {
           "align": "left"
          },
          "hovermode": "closest",
          "mapbox": {
           "style": "light"
          },
          "paper_bgcolor": "white",
          "plot_bgcolor": "#E5ECF6",
          "polar": {
           "angularaxis": {
            "gridcolor": "white",
            "linecolor": "white",
            "ticks": ""
           },
           "bgcolor": "#E5ECF6",
           "radialaxis": {
            "gridcolor": "white",
            "linecolor": "white",
            "ticks": ""
           }
          },
          "scene": {
           "xaxis": {
            "backgroundcolor": "#E5ECF6",
            "gridcolor": "white",
            "gridwidth": 2,
            "linecolor": "white",
            "showbackground": true,
            "ticks": "",
            "zerolinecolor": "white"
           },
           "yaxis": {
            "backgroundcolor": "#E5ECF6",
            "gridcolor": "white",
            "gridwidth": 2,
            "linecolor": "white",
            "showbackground": true,
            "ticks": "",
            "zerolinecolor": "white"
           },
           "zaxis": {
            "backgroundcolor": "#E5ECF6",
            "gridcolor": "white",
            "gridwidth": 2,
            "linecolor": "white",
            "showbackground": true,
            "ticks": "",
            "zerolinecolor": "white"
           }
          },
          "shapedefaults": {
           "line": {
            "color": "#2a3f5f"
           }
          },
          "ternary": {
           "aaxis": {
            "gridcolor": "white",
            "linecolor": "white",
            "ticks": ""
           },
           "baxis": {
            "gridcolor": "white",
            "linecolor": "white",
            "ticks": ""
           },
           "bgcolor": "#E5ECF6",
           "caxis": {
            "gridcolor": "white",
            "linecolor": "white",
            "ticks": ""
           }
          },
          "title": {
           "x": 0.05
          },
          "xaxis": {
           "automargin": true,
           "gridcolor": "white",
           "linecolor": "white",
           "ticks": "",
           "title": {
            "standoff": 15
           },
           "zerolinecolor": "white",
           "zerolinewidth": 2
          },
          "yaxis": {
           "automargin": true,
           "gridcolor": "white",
           "linecolor": "white",
           "ticks": "",
           "title": {
            "standoff": 15
           },
           "zerolinecolor": "white",
           "zerolinewidth": 2
          }
         }
        },
        "xaxis": {
         "dtick": 1,
         "tick0": 0,
         "tickmode": "linear"
        },
        "yaxis": {
         "dtick": 1,
         "tick0": 0,
         "tickmode": "linear"
        }
       }
      },
      "text/html": [
       "<div>                            <div id=\"22f7a22c-5c7e-4bba-9c75-8f27802c6973\" class=\"plotly-graph-div\" style=\"height:525px; width:100%;\"></div>            <script type=\"text/javascript\">                require([\"plotly\"], function(Plotly) {                    window.PLOTLYENV=window.PLOTLYENV || {};                                    if (document.getElementById(\"22f7a22c-5c7e-4bba-9c75-8f27802c6973\")) {                    Plotly.newPlot(                        \"22f7a22c-5c7e-4bba-9c75-8f27802c6973\",                        [{\"mode\":\"markers\",\"name\":\"users\",\"x\":[7,5,1,7,8,7,1,5,9,6,7,9,3,2,6,1,3,7,5,4,9,6,2,8,9,9,3,2,9,0,4,5,1,0,9,9,6,5,2,1,3,3,7,4,9,6,0,8,7,2],\"y\":[0,0,1,2,1,3,0,8,5,3,5,5,3,0,6,1,1,2,5,0,6,1,7,6,9,8,6,6,4,3,4,7,8,2,8,1,6,3,8,1,2,6,3,6,8,6,3,0,6,6],\"type\":\"scatter\"},{\"line\":{\"color\":\"green\"},\"mode\":\"lines\",\"name\":\"lines\",\"showlegend\":false,\"x\":[7,8],\"y\":[0,3],\"type\":\"scatter\"},{\"line\":{\"color\":\"green\"},\"mode\":\"lines\",\"name\":\"lines\",\"showlegend\":false,\"x\":[5,2],\"y\":[0,1],\"type\":\"scatter\"},{\"line\":{\"color\":\"green\"},\"mode\":\"lines\",\"name\":\"lines\",\"showlegend\":false,\"x\":[1,2],\"y\":[1,1],\"type\":\"scatter\"},{\"line\":{\"color\":\"green\"},\"mode\":\"lines\",\"name\":\"lines\",\"showlegend\":false,\"x\":[7,8],\"y\":[2,3],\"type\":\"scatter\"},{\"line\":{\"color\":\"green\"},\"mode\":\"lines\",\"name\":\"lines\",\"showlegend\":false,\"x\":[8,8],\"y\":[1,3],\"type\":\"scatter\"},{\"line\":{\"color\":\"green\"},\"mode\":\"lines\",\"name\":\"lines\",\"showlegend\":false,\"x\":[7,8],\"y\":[3,3],\"type\":\"scatter\"},{\"line\":{\"color\":\"green\"},\"mode\":\"lines\",\"name\":\"lines\",\"showlegend\":false,\"x\":[1,2],\"y\":[0,1],\"type\":\"scatter\"},{\"line\":{\"color\":\"green\"},\"mode\":\"lines\",\"name\":\"lines\",\"showlegend\":false,\"x\":[5,3],\"y\":[8,8],\"type\":\"scatter\"},{\"line\":{\"color\":\"green\"},\"mode\":\"lines\",\"name\":\"lines\",\"showlegend\":false,\"x\":[9,8],\"y\":[5,3],\"type\":\"scatter\"},{\"line\":{\"color\":\"green\"},\"mode\":\"lines\",\"name\":\"lines\",\"showlegend\":false,\"x\":[6,8],\"y\":[3,3],\"type\":\"scatter\"},{\"line\":{\"color\":\"green\"},\"mode\":\"lines\",\"name\":\"lines\",\"showlegend\":false,\"x\":[7,8],\"y\":[5,3],\"type\":\"scatter\"},{\"line\":{\"color\":\"green\"},\"mode\":\"lines\",\"name\":\"lines\",\"showlegend\":false,\"x\":[9,8],\"y\":[5,3],\"type\":\"scatter\"},{\"line\":{\"color\":\"green\"},\"mode\":\"lines\",\"name\":\"lines\",\"showlegend\":false,\"x\":[3,2],\"y\":[3,1],\"type\":\"scatter\"},{\"line\":{\"color\":\"green\"},\"mode\":\"lines\",\"name\":\"lines\",\"showlegend\":false,\"x\":[2,2],\"y\":[0,1],\"type\":\"scatter\"},{\"line\":{\"color\":\"green\"},\"mode\":\"lines\",\"name\":\"lines\",\"showlegend\":false,\"x\":[6,4],\"y\":[6,6],\"type\":\"scatter\"},{\"line\":{\"color\":\"green\"},\"mode\":\"lines\",\"name\":\"lines\",\"showlegend\":false,\"x\":[1,2],\"y\":[1,1],\"type\":\"scatter\"},{\"line\":{\"color\":\"green\"},\"mode\":\"lines\",\"name\":\"lines\",\"showlegend\":false,\"x\":[3,2],\"y\":[1,1],\"type\":\"scatter\"},{\"line\":{\"color\":\"green\"},\"mode\":\"lines\",\"name\":\"lines\",\"showlegend\":false,\"x\":[7,8],\"y\":[2,3],\"type\":\"scatter\"},{\"line\":{\"color\":\"green\"},\"mode\":\"lines\",\"name\":\"lines\",\"showlegend\":false,\"x\":[5,4],\"y\":[5,6],\"type\":\"scatter\"},{\"line\":{\"color\":\"green\"},\"mode\":\"lines\",\"name\":\"lines\",\"showlegend\":false,\"x\":[4,2],\"y\":[0,1],\"type\":\"scatter\"},{\"line\":{\"color\":\"green\"},\"mode\":\"lines\",\"name\":\"lines\",\"showlegend\":false,\"x\":[9,8],\"y\":[6,3],\"type\":\"scatter\"},{\"line\":{\"color\":\"green\"},\"mode\":\"lines\",\"name\":\"lines\",\"showlegend\":false,\"x\":[6,8],\"y\":[1,3],\"type\":\"scatter\"},{\"line\":{\"color\":\"green\"},\"mode\":\"lines\",\"name\":\"lines\",\"showlegend\":false,\"x\":[2,3],\"y\":[7,8],\"type\":\"scatter\"},{\"line\":{\"color\":\"green\"},\"mode\":\"lines\",\"name\":\"lines\",\"showlegend\":false,\"x\":[8,8],\"y\":[6,3],\"type\":\"scatter\"},{\"line\":{\"color\":\"green\"},\"mode\":\"lines\",\"name\":\"lines\",\"showlegend\":false,\"x\":[9,8],\"y\":[9,9],\"type\":\"scatter\"},{\"line\":{\"color\":\"green\"},\"mode\":\"lines\",\"name\":\"lines\",\"showlegend\":false,\"x\":[9,9],\"y\":[8,8],\"type\":\"scatter\"},{\"line\":{\"color\":\"green\"},\"mode\":\"lines\",\"name\":\"lines\",\"showlegend\":false,\"x\":[3,4],\"y\":[6,6],\"type\":\"scatter\"},{\"line\":{\"color\":\"green\"},\"mode\":\"lines\",\"name\":\"lines\",\"showlegend\":false,\"x\":[2,4],\"y\":[6,6],\"type\":\"scatter\"},{\"line\":{\"color\":\"green\"},\"mode\":\"lines\",\"name\":\"lines\",\"showlegend\":false,\"x\":[9,8],\"y\":[4,3],\"type\":\"scatter\"},{\"line\":{\"color\":\"green\"},\"mode\":\"lines\",\"name\":\"lines\",\"showlegend\":false,\"x\":[0,2],\"y\":[3,1],\"type\":\"scatter\"},{\"line\":{\"color\":\"green\"},\"mode\":\"lines\",\"name\":\"lines\",\"showlegend\":false,\"x\":[4,4],\"y\":[4,6],\"type\":\"scatter\"},{\"line\":{\"color\":\"green\"},\"mode\":\"lines\",\"name\":\"lines\",\"showlegend\":false,\"x\":[5,4],\"y\":[7,6],\"type\":\"scatter\"},{\"line\":{\"color\":\"green\"},\"mode\":\"lines\",\"name\":\"lines\",\"showlegend\":false,\"x\":[1,3],\"y\":[8,8],\"type\":\"scatter\"},{\"line\":{\"color\":\"green\"},\"mode\":\"lines\",\"name\":\"lines\",\"showlegend\":false,\"x\":[0,2],\"y\":[2,1],\"type\":\"scatter\"},{\"line\":{\"color\":\"green\"},\"mode\":\"lines\",\"name\":\"lines\",\"showlegend\":false,\"x\":[9,9],\"y\":[8,8],\"type\":\"scatter\"},{\"line\":{\"color\":\"green\"},\"mode\":\"lines\",\"name\":\"lines\",\"showlegend\":false,\"x\":[9,8],\"y\":[1,3],\"type\":\"scatter\"},{\"line\":{\"color\":\"green\"},\"mode\":\"lines\",\"name\":\"lines\",\"showlegend\":false,\"x\":[6,4],\"y\":[6,6],\"type\":\"scatter\"},{\"line\":{\"color\":\"green\"},\"mode\":\"lines\",\"name\":\"lines\",\"showlegend\":false,\"x\":[5,8],\"y\":[3,3],\"type\":\"scatter\"},{\"line\":{\"color\":\"green\"},\"mode\":\"lines\",\"name\":\"lines\",\"showlegend\":false,\"x\":[2,3],\"y\":[8,8],\"type\":\"scatter\"},{\"line\":{\"color\":\"green\"},\"mode\":\"lines\",\"name\":\"lines\",\"showlegend\":false,\"x\":[1,2],\"y\":[1,1],\"type\":\"scatter\"},{\"line\":{\"color\":\"green\"},\"mode\":\"lines\",\"name\":\"lines\",\"showlegend\":false,\"x\":[3,2],\"y\":[2,1],\"type\":\"scatter\"},{\"line\":{\"color\":\"green\"},\"mode\":\"lines\",\"name\":\"lines\",\"showlegend\":false,\"x\":[3,4],\"y\":[6,6],\"type\":\"scatter\"},{\"line\":{\"color\":\"green\"},\"mode\":\"lines\",\"name\":\"lines\",\"showlegend\":false,\"x\":[7,8],\"y\":[3,3],\"type\":\"scatter\"},{\"line\":{\"color\":\"green\"},\"mode\":\"lines\",\"name\":\"lines\",\"showlegend\":false,\"x\":[4,4],\"y\":[6,6],\"type\":\"scatter\"},{\"line\":{\"color\":\"green\"},\"mode\":\"lines\",\"name\":\"lines\",\"showlegend\":false,\"x\":[9,9],\"y\":[8,8],\"type\":\"scatter\"},{\"line\":{\"color\":\"green\"},\"mode\":\"lines\",\"name\":\"lines\",\"showlegend\":false,\"x\":[6,4],\"y\":[6,6],\"type\":\"scatter\"},{\"line\":{\"color\":\"green\"},\"mode\":\"lines\",\"name\":\"lines\",\"showlegend\":false,\"x\":[0,2],\"y\":[3,1],\"type\":\"scatter\"},{\"line\":{\"color\":\"green\"},\"mode\":\"lines\",\"name\":\"lines\",\"showlegend\":false,\"x\":[8,8],\"y\":[0,3],\"type\":\"scatter\"},{\"line\":{\"color\":\"green\"},\"mode\":\"lines\",\"name\":\"lines\",\"showlegend\":false,\"x\":[7,8],\"y\":[6,3],\"type\":\"scatter\"},{\"line\":{\"color\":\"green\"},\"mode\":\"lines\",\"name\":\"lines\",\"showlegend\":false,\"x\":[2,4],\"y\":[6,6],\"type\":\"scatter\"},{\"marker\":{\"color\":\"red\",\"size\":20},\"mode\":\"markers\",\"name\":\"access_points\",\"x\":[0,0,2,3,4,8,8,9],\"y\":[0,3,1,8,6,3,9,8],\"type\":\"scatter\"}],                        {\"template\":{\"data\":{\"bar\":[{\"error_x\":{\"color\":\"#2a3f5f\"},\"error_y\":{\"color\":\"#2a3f5f\"},\"marker\":{\"line\":{\"color\":\"#E5ECF6\",\"width\":0.5},\"pattern\":{\"fillmode\":\"overlay\",\"size\":10,\"solidity\":0.2}},\"type\":\"bar\"}],\"barpolar\":[{\"marker\":{\"line\":{\"color\":\"#E5ECF6\",\"width\":0.5},\"pattern\":{\"fillmode\":\"overlay\",\"size\":10,\"solidity\":0.2}},\"type\":\"barpolar\"}],\"carpet\":[{\"aaxis\":{\"endlinecolor\":\"#2a3f5f\",\"gridcolor\":\"white\",\"linecolor\":\"white\",\"minorgridcolor\":\"white\",\"startlinecolor\":\"#2a3f5f\"},\"baxis\":{\"endlinecolor\":\"#2a3f5f\",\"gridcolor\":\"white\",\"linecolor\":\"white\",\"minorgridcolor\":\"white\",\"startlinecolor\":\"#2a3f5f\"},\"type\":\"carpet\"}],\"choropleth\":[{\"colorbar\":{\"outlinewidth\":0,\"ticks\":\"\"},\"type\":\"choropleth\"}],\"contour\":[{\"colorbar\":{\"outlinewidth\":0,\"ticks\":\"\"},\"colorscale\":[[0.0,\"#0d0887\"],[0.1111111111111111,\"#46039f\"],[0.2222222222222222,\"#7201a8\"],[0.3333333333333333,\"#9c179e\"],[0.4444444444444444,\"#bd3786\"],[0.5555555555555556,\"#d8576b\"],[0.6666666666666666,\"#ed7953\"],[0.7777777777777778,\"#fb9f3a\"],[0.8888888888888888,\"#fdca26\"],[1.0,\"#f0f921\"]],\"type\":\"contour\"}],\"contourcarpet\":[{\"colorbar\":{\"outlinewidth\":0,\"ticks\":\"\"},\"type\":\"contourcarpet\"}],\"heatmap\":[{\"colorbar\":{\"outlinewidth\":0,\"ticks\":\"\"},\"colorscale\":[[0.0,\"#0d0887\"],[0.1111111111111111,\"#46039f\"],[0.2222222222222222,\"#7201a8\"],[0.3333333333333333,\"#9c179e\"],[0.4444444444444444,\"#bd3786\"],[0.5555555555555556,\"#d8576b\"],[0.6666666666666666,\"#ed7953\"],[0.7777777777777778,\"#fb9f3a\"],[0.8888888888888888,\"#fdca26\"],[1.0,\"#f0f921\"]],\"type\":\"heatmap\"}],\"heatmapgl\":[{\"colorbar\":{\"outlinewidth\":0,\"ticks\":\"\"},\"colorscale\":[[0.0,\"#0d0887\"],[0.1111111111111111,\"#46039f\"],[0.2222222222222222,\"#7201a8\"],[0.3333333333333333,\"#9c179e\"],[0.4444444444444444,\"#bd3786\"],[0.5555555555555556,\"#d8576b\"],[0.6666666666666666,\"#ed7953\"],[0.7777777777777778,\"#fb9f3a\"],[0.8888888888888888,\"#fdca26\"],[1.0,\"#f0f921\"]],\"type\":\"heatmapgl\"}],\"histogram\":[{\"marker\":{\"pattern\":{\"fillmode\":\"overlay\",\"size\":10,\"solidity\":0.2}},\"type\":\"histogram\"}],\"histogram2d\":[{\"colorbar\":{\"outlinewidth\":0,\"ticks\":\"\"},\"colorscale\":[[0.0,\"#0d0887\"],[0.1111111111111111,\"#46039f\"],[0.2222222222222222,\"#7201a8\"],[0.3333333333333333,\"#9c179e\"],[0.4444444444444444,\"#bd3786\"],[0.5555555555555556,\"#d8576b\"],[0.6666666666666666,\"#ed7953\"],[0.7777777777777778,\"#fb9f3a\"],[0.8888888888888888,\"#fdca26\"],[1.0,\"#f0f921\"]],\"type\":\"histogram2d\"}],\"histogram2dcontour\":[{\"colorbar\":{\"outlinewidth\":0,\"ticks\":\"\"},\"colorscale\":[[0.0,\"#0d0887\"],[0.1111111111111111,\"#46039f\"],[0.2222222222222222,\"#7201a8\"],[0.3333333333333333,\"#9c179e\"],[0.4444444444444444,\"#bd3786\"],[0.5555555555555556,\"#d8576b\"],[0.6666666666666666,\"#ed7953\"],[0.7777777777777778,\"#fb9f3a\"],[0.8888888888888888,\"#fdca26\"],[1.0,\"#f0f921\"]],\"type\":\"histogram2dcontour\"}],\"mesh3d\":[{\"colorbar\":{\"outlinewidth\":0,\"ticks\":\"\"},\"type\":\"mesh3d\"}],\"parcoords\":[{\"line\":{\"colorbar\":{\"outlinewidth\":0,\"ticks\":\"\"}},\"type\":\"parcoords\"}],\"pie\":[{\"automargin\":true,\"type\":\"pie\"}],\"scatter\":[{\"marker\":{\"colorbar\":{\"outlinewidth\":0,\"ticks\":\"\"}},\"type\":\"scatter\"}],\"scatter3d\":[{\"line\":{\"colorbar\":{\"outlinewidth\":0,\"ticks\":\"\"}},\"marker\":{\"colorbar\":{\"outlinewidth\":0,\"ticks\":\"\"}},\"type\":\"scatter3d\"}],\"scattercarpet\":[{\"marker\":{\"colorbar\":{\"outlinewidth\":0,\"ticks\":\"\"}},\"type\":\"scattercarpet\"}],\"scattergeo\":[{\"marker\":{\"colorbar\":{\"outlinewidth\":0,\"ticks\":\"\"}},\"type\":\"scattergeo\"}],\"scattergl\":[{\"marker\":{\"colorbar\":{\"outlinewidth\":0,\"ticks\":\"\"}},\"type\":\"scattergl\"}],\"scattermapbox\":[{\"marker\":{\"colorbar\":{\"outlinewidth\":0,\"ticks\":\"\"}},\"type\":\"scattermapbox\"}],\"scatterpolar\":[{\"marker\":{\"colorbar\":{\"outlinewidth\":0,\"ticks\":\"\"}},\"type\":\"scatterpolar\"}],\"scatterpolargl\":[{\"marker\":{\"colorbar\":{\"outlinewidth\":0,\"ticks\":\"\"}},\"type\":\"scatterpolargl\"}],\"scatterternary\":[{\"marker\":{\"colorbar\":{\"outlinewidth\":0,\"ticks\":\"\"}},\"type\":\"scatterternary\"}],\"surface\":[{\"colorbar\":{\"outlinewidth\":0,\"ticks\":\"\"},\"colorscale\":[[0.0,\"#0d0887\"],[0.1111111111111111,\"#46039f\"],[0.2222222222222222,\"#7201a8\"],[0.3333333333333333,\"#9c179e\"],[0.4444444444444444,\"#bd3786\"],[0.5555555555555556,\"#d8576b\"],[0.6666666666666666,\"#ed7953\"],[0.7777777777777778,\"#fb9f3a\"],[0.8888888888888888,\"#fdca26\"],[1.0,\"#f0f921\"]],\"type\":\"surface\"}],\"table\":[{\"cells\":{\"fill\":{\"color\":\"#EBF0F8\"},\"line\":{\"color\":\"white\"}},\"header\":{\"fill\":{\"color\":\"#C8D4E3\"},\"line\":{\"color\":\"white\"}},\"type\":\"table\"}]},\"layout\":{\"annotationdefaults\":{\"arrowcolor\":\"#2a3f5f\",\"arrowhead\":0,\"arrowwidth\":1},\"autotypenumbers\":\"strict\",\"coloraxis\":{\"colorbar\":{\"outlinewidth\":0,\"ticks\":\"\"}},\"colorscale\":{\"diverging\":[[0,\"#8e0152\"],[0.1,\"#c51b7d\"],[0.2,\"#de77ae\"],[0.3,\"#f1b6da\"],[0.4,\"#fde0ef\"],[0.5,\"#f7f7f7\"],[0.6,\"#e6f5d0\"],[0.7,\"#b8e186\"],[0.8,\"#7fbc41\"],[0.9,\"#4d9221\"],[1,\"#276419\"]],\"sequential\":[[0.0,\"#0d0887\"],[0.1111111111111111,\"#46039f\"],[0.2222222222222222,\"#7201a8\"],[0.3333333333333333,\"#9c179e\"],[0.4444444444444444,\"#bd3786\"],[0.5555555555555556,\"#d8576b\"],[0.6666666666666666,\"#ed7953\"],[0.7777777777777778,\"#fb9f3a\"],[0.8888888888888888,\"#fdca26\"],[1.0,\"#f0f921\"]],\"sequentialminus\":[[0.0,\"#0d0887\"],[0.1111111111111111,\"#46039f\"],[0.2222222222222222,\"#7201a8\"],[0.3333333333333333,\"#9c179e\"],[0.4444444444444444,\"#bd3786\"],[0.5555555555555556,\"#d8576b\"],[0.6666666666666666,\"#ed7953\"],[0.7777777777777778,\"#fb9f3a\"],[0.8888888888888888,\"#fdca26\"],[1.0,\"#f0f921\"]]},\"colorway\":[\"#636efa\",\"#EF553B\",\"#00cc96\",\"#ab63fa\",\"#FFA15A\",\"#19d3f3\",\"#FF6692\",\"#B6E880\",\"#FF97FF\",\"#FECB52\"],\"font\":{\"color\":\"#2a3f5f\"},\"geo\":{\"bgcolor\":\"white\",\"lakecolor\":\"white\",\"landcolor\":\"#E5ECF6\",\"showlakes\":true,\"showland\":true,\"subunitcolor\":\"white\"},\"hoverlabel\":{\"align\":\"left\"},\"hovermode\":\"closest\",\"mapbox\":{\"style\":\"light\"},\"paper_bgcolor\":\"white\",\"plot_bgcolor\":\"#E5ECF6\",\"polar\":{\"angularaxis\":{\"gridcolor\":\"white\",\"linecolor\":\"white\",\"ticks\":\"\"},\"bgcolor\":\"#E5ECF6\",\"radialaxis\":{\"gridcolor\":\"white\",\"linecolor\":\"white\",\"ticks\":\"\"}},\"scene\":{\"xaxis\":{\"backgroundcolor\":\"#E5ECF6\",\"gridcolor\":\"white\",\"gridwidth\":2,\"linecolor\":\"white\",\"showbackground\":true,\"ticks\":\"\",\"zerolinecolor\":\"white\"},\"yaxis\":{\"backgroundcolor\":\"#E5ECF6\",\"gridcolor\":\"white\",\"gridwidth\":2,\"linecolor\":\"white\",\"showbackground\":true,\"ticks\":\"\",\"zerolinecolor\":\"white\"},\"zaxis\":{\"backgroundcolor\":\"#E5ECF6\",\"gridcolor\":\"white\",\"gridwidth\":2,\"linecolor\":\"white\",\"showbackground\":true,\"ticks\":\"\",\"zerolinecolor\":\"white\"}},\"shapedefaults\":{\"line\":{\"color\":\"#2a3f5f\"}},\"ternary\":{\"aaxis\":{\"gridcolor\":\"white\",\"linecolor\":\"white\",\"ticks\":\"\"},\"baxis\":{\"gridcolor\":\"white\",\"linecolor\":\"white\",\"ticks\":\"\"},\"bgcolor\":\"#E5ECF6\",\"caxis\":{\"gridcolor\":\"white\",\"linecolor\":\"white\",\"ticks\":\"\"}},\"title\":{\"x\":0.05},\"xaxis\":{\"automargin\":true,\"gridcolor\":\"white\",\"linecolor\":\"white\",\"ticks\":\"\",\"title\":{\"standoff\":15},\"zerolinecolor\":\"white\",\"zerolinewidth\":2},\"yaxis\":{\"automargin\":true,\"gridcolor\":\"white\",\"linecolor\":\"white\",\"ticks\":\"\",\"title\":{\"standoff\":15},\"zerolinecolor\":\"white\",\"zerolinewidth\":2}}},\"yaxis\":{\"tickmode\":\"linear\",\"tick0\":0,\"dtick\":1},\"xaxis\":{\"tickmode\":\"linear\",\"tick0\":0,\"dtick\":1}},                        {\"responsive\": true}                    ).then(function(){\n",
       "                            \n",
       "var gd = document.getElementById('22f7a22c-5c7e-4bba-9c75-8f27802c6973');\n",
       "var x = new MutationObserver(function (mutations, observer) {{\n",
       "        var display = window.getComputedStyle(gd).display;\n",
       "        if (!display || display === 'none') {{\n",
       "            console.log([gd, 'removed!']);\n",
       "            Plotly.purge(gd);\n",
       "            observer.disconnect();\n",
       "        }}\n",
       "}});\n",
       "\n",
       "// Listen for the removal of the full notebook cells\n",
       "var notebookContainer = gd.closest('#notebook-container');\n",
       "if (notebookContainer) {{\n",
       "    x.observe(notebookContainer, {childList: true});\n",
       "}}\n",
       "\n",
       "// Listen for the clearing of the current output cell\n",
       "var outputEl = gd.closest('.output');\n",
       "if (outputEl) {{\n",
       "    x.observe(outputEl, {childList: true});\n",
       "}}\n",
       "\n",
       "                        })                };                });            </script>        </div>"
      ]
     },
     "metadata": {},
     "output_type": "display_data"
    }
   ],
   "source": [
    "import plotly.express as px\n",
    "import plotly.graph_objects as go\n",
    "\n",
    "fig = go.Figure()\n",
    "\n",
    "fig.add_trace(\n",
    "    go.Scatter(\n",
    "        x=[position_user[k][0] for k in position_user],\n",
    "        y=[position_user[k][1] for k in position_user],\n",
    "        mode=\"markers\",\n",
    "        name=\"users\",\n",
    "    ))\n",
    "\n",
    "for u in users:\n",
    "    for a in access_points:\n",
    "        for p in positions:\n",
    "            if pulp.value(x[u][a][p]) > 0.9:\n",
    "                fig.add_trace(\n",
    "                    go.Scatter(x=[position_user[u][0], p[0]],\n",
    "                               y=[position_user[u][1], p[1]],\n",
    "                               mode='lines',\n",
    "                               name='lines',\n",
    "                               line=dict(color=\"green\"),\n",
    "                               showlegend=False))\n",
    "fig.add_trace(go.Scatter(x=[p[0] for p in z[a] for a in z if pulp.value(z[a][p]) > 0.9],\n",
    "                         y=[p[1] for p in z[a]\n",
    "                             for a in z if pulp.value(z[a][p]) > 0.9],\n",
    "                         mode=\"markers\",\n",
    "                         name=\"access_points\",\n",
    "                         marker=dict(color=\"red\"),\n",
    "                         marker_size=20))\n",
    "\n",
    "fig.update_layout(\n",
    "    yaxis=dict(\n",
    "        tickmode='linear',\n",
    "        tick0=0,\n",
    "        dtick=1\n",
    "    ),\n",
    "    xaxis=dict(\n",
    "        tickmode='linear',\n",
    "        tick0=0,\n",
    "        dtick=1\n",
    "    )\n",
    ")\n",
    "fig.show()"
   ]
  },
  {
   "cell_type": "code",
   "execution_count": null,
   "id": "d39f68e4",
   "metadata": {},
   "outputs": [],
   "source": []
  }
 ],
 "metadata": {
  "kernelspec": {
   "display_name": "Python 3 (ipykernel)",
   "language": "python",
   "name": "python3"
  },
  "language_info": {
   "codemirror_mode": {
    "name": "ipython",
    "version": 3
   },
   "file_extension": ".py",
   "mimetype": "text/x-python",
   "name": "python",
   "nbconvert_exporter": "python",
   "pygments_lexer": "ipython3",
   "version": "3.10.2"
  },
  "toc": {
   "base_numbering": 1,
   "nav_menu": {},
   "number_sections": true,
   "sideBar": true,
   "skip_h1_title": false,
   "title_cell": "Table of Contents",
   "title_sidebar": "Contents",
   "toc_cell": false,
   "toc_position": {},
   "toc_section_display": true,
   "toc_window_display": false
  }
 },
 "nbformat": 4,
 "nbformat_minor": 5
}
