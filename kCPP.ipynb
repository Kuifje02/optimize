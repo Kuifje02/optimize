{
 "cells": [
  {
   "cell_type": "code",
   "execution_count": 1,
   "id": "230bc302",
   "metadata": {},
   "outputs": [],
   "source": [
    "import networkx as nx\n",
    "import pulp"
   ]
  },
  {
   "cell_type": "markdown",
   "id": "dc53f7f1",
   "metadata": {},
   "source": [
    "# Data"
   ]
  },
  {
   "cell_type": "code",
   "execution_count": 3,
   "id": "dd24ed3a",
   "metadata": {},
   "outputs": [],
   "source": [
    "G=nx.DiGraph()\n",
    "G.add_edge(\"A\",\"B\",cost=120)\n",
    "G.add_edge(\"B\",\"D\",cost=150)\n",
    "G.add_edge(\"D\",\"C\",cost=120)\n",
    "G.add_edge(\"C\",\"D\",cost=120)\n",
    "G.add_edge(\"I\",\"C\",cost=250)\n",
    "G.add_edge(\"D\",\"I\",cost=300)\n",
    "G.add_edge(\"C\",\"A\",cost=150)\n",
    "G.add_edge(\"D\",\"E\",cost=150)\n",
    "G.add_edge(\"E\",\"K\",cost=250)\n",
    "G.add_edge(\"K\",\"J\",cost=80)\n",
    "G.add_edge(\"J\",\"D\",cost=250)\n",
    "G.add_edge(\"J\",\"I\",cost=120)\n",
    "G.add_edge(\"I\",\"J\",cost=120)\n",
    "G.add_edge(\"K\",\"L\",cost=150)\n",
    "G.add_edge(\"L\",\"K\",cost=150)\n",
    "G.add_edge(\"L\",\"M\",cost=100)\n",
    "G.add_edge(\"M\",\"G\",cost=250)\n",
    "G.add_edge(\"G\",\"N\",cost=180)\n",
    "G.add_edge(\"N\",\"E\",cost=260)\n",
    "G.add_edge(\"E\",\"F\",cost=80)\n",
    "G.add_edge(\"F\",\"L\",cost=250)\n",
    "G.add_edge(\"F\",\"G\",cost=100)\n",
    "G.add_edge(\"G\",\"F\",cost=100)"
   ]
  },
  {
   "cell_type": "code",
   "execution_count": 4,
   "id": "c84f7e3b",
   "metadata": {},
   "outputs": [
    {
     "data": {
      "image/png": "[encoded data removed]",
      "text/plain": [
       "<Figure size 432x288 with 1 Axes>"
      ]
     },
     "metadata": {},
     "output_type": "display_data"
    }
   ],
   "source": [
    "pos = {\"A\": (0, 0), \"B\": (1, 0), \"D\": (1, 1), \"C\": (0, 1), \"I\": (0, 3), \"E\": (2, 1), \"K\": (\n",
    "    2, 3), \"J\": (1, 3), \"L\": (3, 3), \"M\": (4, 3), \"N\": (4, 0), \"G\": (4, 1), \"F\": (3, 1)}\n",
    "nx.draw(G,\n",
    "        with_labels=True,\n",
    "        pos=pos,\n",
    "        connectionstyle='arc3, rad = 0.1',\n",
    "        )"
   ]
  },
  {
   "cell_type": "markdown",
   "id": "a8d8e551",
   "metadata": {},
   "source": [
    "# Compute cycles"
   ]
  },
  {
   "cell_type": "code",
   "execution_count": 124,
   "id": "8563031d",
   "metadata": {},
   "outputs": [
    {
     "name": "stdout",
     "output_type": "stream",
     "text": [
      "['M', 'G', 'F', 'L']\n",
      "['M', 'G', 'N', 'E', 'F', 'L']\n",
      "['M', 'G', 'N', 'E', 'K', 'L']\n",
      "['K', 'L']\n",
      "['K', 'J', 'I', 'C', 'A', 'B', 'D', 'E', 'F', 'L']\n",
      "['K', 'J', 'I', 'C', 'A', 'B', 'D', 'E']\n",
      "['K', 'J', 'I', 'C', 'D', 'E', 'F', 'L']\n",
      "['K', 'J', 'I', 'C', 'D', 'E']\n",
      "['K', 'J', 'D', 'E', 'F', 'L']\n",
      "['K', 'J', 'D', 'E']\n",
      "['D', 'I', 'J']\n",
      "['D', 'I', 'C', 'A', 'B']\n",
      "['D', 'I', 'C']\n",
      "['D', 'C', 'A', 'B']\n",
      "['D', 'C']\n",
      "['I', 'J']\n",
      "['E', 'F', 'G', 'N']\n",
      "['G', 'F']\n"
     ]
    }
   ],
   "source": [
    "for c in nx.simple_cycles(G):\n",
    "    print(c)"
   ]
  },
  {
   "cell_type": "markdown",
   "id": "0ca1ad79",
   "metadata": {},
   "source": [
    "The following code could definitely be optimized (many cycles are defined multiple times)."
   ]
  },
  {
   "cell_type": "code",
   "execution_count": 6,
   "id": "664d7096",
   "metadata": {},
   "outputs": [],
   "source": [
    "cycles = list(nx.simple_cycles(G))\n",
    "G_cycles = {}\n",
    "i = 1\n",
    "# simple cycles\n",
    "cycles_1 = []\n",
    "for c in list(cycles):\n",
    "    H = nx.DiGraph()\n",
    "    nx.add_path(H, c)\n",
    "    H.add_edge(c[-1], c[0])\n",
    "    cost = sum(G[u][v][\"cost\"] for (u, v) in H.edges())\n",
    "    H.graph[\"cost\"] = cost\n",
    "    G_cycles[i] = H\n",
    "    cycles_1.append(H)\n",
    "    i += 1\n",
    "# 2-cycles\n",
    "cycles_2 = []\n",
    "for c1 in cycles:\n",
    "    for c2 in cycles:\n",
    "        if c1 != c2:\n",
    "            H1 = nx.DiGraph()\n",
    "            nx.add_path(H1, c1)\n",
    "            H1.add_edge(c1[-1], c1[0])\n",
    "            H2 = nx.DiGraph()\n",
    "            nx.add_path(H2, c2)\n",
    "            H2.add_edge(c2[-1], c2[0])\n",
    "            if len(nx.intersection(H1, H2).nodes()) > 0:\n",
    "                H = nx.compose(H1, H2)\n",
    "                cost = sum(G[u][v][\"cost\"] for (u, v) in H.edges())\n",
    "                H.graph[\"cost\"] = cost\n",
    "                G_cycles[i] = H\n",
    "                cycles_2.append(H)\n",
    "                i += 1\n",
    "# 3-cycles\n",
    "cycles_3 = []\n",
    "for H1 in cycles_1:\n",
    "    for H2 in cycles_2:\n",
    "        if len(nx.intersection(H1, H2).nodes()) > 0:\n",
    "            H = nx.compose(H1, H2)\n",
    "            cost = sum(G[u][v][\"cost\"] for (u, v) in H.edges())\n",
    "            H.graph[\"cost\"] = cost\n",
    "            G_cycles[i] = H\n",
    "            cycles_3.append(H)\n",
    "            i += 1"
   ]
  },
  {
   "cell_type": "markdown",
   "id": "6167812d",
   "metadata": {},
   "source": [
    "# MIP"
   ]
  },
  {
   "cell_type": "code",
   "execution_count": 7,
   "id": "ec3d7cf1",
   "metadata": {},
   "outputs": [],
   "source": [
    "# define problem\n",
    "prob = pulp.LpProblem(\"cycles\", pulp.LpMinimize)\n",
    "\n",
    "# define variables\n",
    "x = pulp.LpVariable.dicts(\"x\", G_cycles.keys(), cat=pulp.LpBinary)\n",
    "z = pulp.LpVariable(\"z\", cat=pulp.LpContinuous, lowBound=0)\n",
    "\n",
    "# objective function\n",
    "prob += z\n",
    "\n",
    "# cover each edge exactly once\n",
    "for (i, j) in G.edges():\n",
    "    prob += pulp.lpSum(x[g]\n",
    "                       for g in x if (i, j) in G_cycles[g].edges()) == 1\n",
    "# use exactly 3 cycles\n",
    "prob += pulp.lpSum(x) == 3\n",
    "\n",
    "# minimize z\n",
    "for g in x:\n",
    "    prob += G_cycles[g].graph[\"cost\"]*x[g] <= z"
   ]
  },
  {
   "cell_type": "code",
   "execution_count": 10,
   "id": "c330e84a",
   "metadata": {},
   "outputs": [],
   "source": [
    "# print problem for debug\n",
    "#prob"
   ]
  },
  {
   "cell_type": "code",
   "execution_count": 11,
   "id": "c8b0efe8",
   "metadata": {},
   "outputs": [
    {
     "data": {
      "text/plain": [
       "1"
      ]
     },
     "execution_count": 11,
     "metadata": {},
     "output_type": "execute_result"
    }
   ],
   "source": [
    "# solve with default CBC solver\n",
    "prob.solve()"
   ]
  },
  {
   "cell_type": "code",
   "execution_count": 15,
   "id": "f253843d",
   "metadata": {},
   "outputs": [
    {
     "data": {
      "text/plain": [
       "1320.0"
      ]
     },
     "execution_count": 15,
     "metadata": {},
     "output_type": "execute_result"
    }
   ],
   "source": [
    "prob.objective.value()"
   ]
  },
  {
   "cell_type": "code",
   "execution_count": 13,
   "id": "fcef70bb",
   "metadata": {},
   "outputs": [],
   "source": [
    "# save solution\n",
    "k = 1\n",
    "for g in G_cycles:\n",
    "    val = pulp.value(x[g])\n",
    "    if val > 0.9:\n",
    "        for (i, j) in G.edges():\n",
    "            if (i, j) in G_cycles[g].edges():\n",
    "                G[i][j][\"cycle\"] = k\n",
    "        k += 1"
   ]
  },
  {
   "cell_type": "code",
   "execution_count": 14,
   "id": "77b63d07",
   "metadata": {},
   "outputs": [
    {
     "data": {
      "image/png": "[encoded data removed]",
      "text/plain": [
       "<Figure size 432x288 with 1 Axes>"
      ]
     },
     "metadata": {},
     "output_type": "display_data"
    }
   ],
   "source": [
    "# plot solution\n",
    "color = dict(zip([1,2,3],[\"blue\",\"red\",\"green\"]))\n",
    "nx.draw(G,\n",
    "        with_labels=True,\n",
    "        pos=pos,\n",
    "        connectionstyle='arc3, rad = 0.3',\n",
    "        edge_color=[color[G[u][v][\"cycle\"]] for (u, v) in G.edges()]\n",
    "        )"
   ]
  }
 ],
 "metadata": {
  "kernelspec": {
   "display_name": "Python 3 (ipykernel)",
   "language": "python",
   "name": "python3"
  },
  "language_info": {
   "codemirror_mode": {
    "name": "ipython",
    "version": 3
   },
   "file_extension": ".py",
   "mimetype": "text/x-python",
   "name": "python",
   "nbconvert_exporter": "python",
   "pygments_lexer": "ipython3",
   "version": "3.10.2"
  },
  "toc": {
   "base_numbering": 1,
   "nav_menu": {},
   "number_sections": true,
   "sideBar": true,
   "skip_h1_title": false,
   "title_cell": "Table of Contents",
   "title_sidebar": "Contents",
   "toc_cell": false,
   "toc_position": {
    "height": "calc(100% - 180px)",
    "left": "10px",
    "top": "150px",
    "width": "166.333px"
   },
   "toc_section_display": true,
   "toc_window_display": true
  }
 },
 "nbformat": 4,
 "nbformat_minor": 5
}
