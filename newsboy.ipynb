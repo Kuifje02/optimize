{
 "cells": [
  {
   "cell_type": "code",
   "execution_count": 1,
   "id": "bbffd005-ba03-4da1-953a-1506b54f38a7",
   "metadata": {},
   "outputs": [],
   "source": [
    "import pulp\n",
    "import numpy as np\n",
    "import scipy.stats"
   ]
  },
  {
   "cell_type": "markdown",
   "id": "acaba884-708d-4846-8ab6-43bff9eb0f2b",
   "metadata": {},
   "source": [
    "# 1. Data"
   ]
  },
  {
   "cell_type": "code",
   "execution_count": 119,
   "id": "b9562a36-b45b-421c-be70-aca89591e478",
   "metadata": {},
   "outputs": [],
   "source": [
    "# data\n",
    "p = 7 #selling price\n",
    "c = 5 #buying cost\n",
    "min_demand = 50 \n",
    "max_demand = 80\n",
    "N = max_demand-min_demand+1 # scenarios\n",
    "scenarios = [s for s in range(1,N+1)]\n",
    "demand = [d for d in range(min_demand,max_demand+1)]\n",
    "demand_scenario = dict(zip(scenarios,demand))\n",
    "# uniform\n",
    "proba = [scipy.stats.randint(min_demand,max_demand+1).pmf(d) for d in demand]\n",
    "#proba = [1/len(scenarios) for s in scenarios]\n",
    "# normal\n",
    "proba = [scipy.stats.norm((min_demand+max_demand)/2, 3).pdf(d) for d in demand]\n",
    "proba_scenario = dict(zip(scenarios,proba))"
   ]
  },
  {
   "cell_type": "code",
   "execution_count": 120,
   "id": "b9680628-37da-4758-a7a4-03311e3ceb69",
   "metadata": {},
   "outputs": [
    {
     "data": {
      "text/plain": [
       "0.9999997899653588"
      ]
     },
     "execution_count": 120,
     "metadata": {},
     "output_type": "execute_result"
    }
   ],
   "source": [
    "sum(proba)"
   ]
  },
  {
   "cell_type": "code",
   "execution_count": 121,
   "id": "4cd0536c-c962-4923-9394-24eed0b65704",
   "metadata": {},
   "outputs": [],
   "source": [
    "# proba_scenario"
   ]
  },
  {
   "cell_type": "markdown",
   "id": "adba22ab-2ae9-4fe7-bab5-70d42a8fa8e3",
   "metadata": {},
   "source": [
    "# 2. Stochastic Program"
   ]
  },
  {
   "cell_type": "code",
   "execution_count": 122,
   "id": "da7de4e6-33cf-4b12-9bbf-3d27a33649d8",
   "metadata": {},
   "outputs": [],
   "source": [
    "# create problem\n",
    "prob = pulp.LpProblem(\"newsboy\", pulp.LpMaximize)\n",
    "\n",
    "# define variables\n",
    "buy = pulp.LpVariable(\"buy\",cat=pulp.LpInteger)\n",
    "sell = pulp.LpVariable.dicts(\"sell\",scenarios,cat=pulp.LpInteger)\n",
    "\n",
    "# objective function\n",
    "#prob += p*1/31*pulp.lpSum(sell)-c*buy\n",
    "prob += p*pulp.lpSum(proba_scenario[s]*sell[s] for s in scenarios)-c*buy\n",
    "\n",
    "# constraints: sell = min{buy, demand}\n",
    "for s in scenarios:\n",
    "    prob += sell[s] <= buy\n",
    "    prob += sell[s] <= demand_scenario[s]"
   ]
  },
  {
   "cell_type": "code",
   "execution_count": 123,
   "id": "56f51bef-40d4-4cdf-8770-ad1350da7707",
   "metadata": {},
   "outputs": [
    {
     "data": {
      "text/plain": [
       "1"
      ]
     },
     "execution_count": 123,
     "metadata": {},
     "output_type": "execute_result"
    }
   ],
   "source": [
    "prob.solve()"
   ]
  },
  {
   "cell_type": "code",
   "execution_count": 124,
   "id": "38bbfe32-be70-4804-bd3b-3be11ec24a99",
   "metadata": {},
   "outputs": [
    {
     "data": {
      "text/plain": [
       "(63.0, 122.88871260673636)"
      ]
     },
     "execution_count": 124,
     "metadata": {},
     "output_type": "execute_result"
    }
   ],
   "source": [
    "pulp.value(buy),pulp.value(prob.objective)"
   ]
  },
  {
   "cell_type": "code",
   "execution_count": 136,
   "id": "200007d8-3d74-4829-b770-69ac57a177ff",
   "metadata": {},
   "outputs": [
    {
     "data": {
      "text/plain": [
       "63.30215353420141"
      ]
     },
     "execution_count": 136,
     "metadata": {},
     "output_type": "execute_result"
    }
   ],
   "source": [
    "# check that solver's solution matches theoretical solution\n",
    "scipy.stats.randint.ppf((p-c)/p,min_demand,max_demand) #if uniform, or np.quantile(demand,(p-c)/p)\n",
    "scipy.stats.norm.ppf((p-c)/p, loc=(min_demand+max_demand)/2, scale=3) #if normal"
   ]
  },
  {
   "cell_type": "markdown",
   "id": "44d13f02-cea2-4c30-9df0-7d4efb986acb",
   "metadata": {},
   "source": [
    "# 3. L-Shaped algorithm"
   ]
  },
  {
   "cell_type": "code",
   "execution_count": null,
   "id": "62c80b05-fd90-40c4-9220-c798d7f4cd3e",
   "metadata": {},
   "outputs": [],
   "source": [
    "def mastersolve(scenarios, iter):\n",
    "    prob = pulp.LpProblem(\"master\", pulp.LpMinimize)\n",
    "    buy = pulp.LpVariable(\"buy\",cat=pulp.LpInteger)\n",
    "    sell = pulp.LpVariable.dicts(\"sell\",scenarios,cat=pulp.LpInteger)\n",
    "    theta = pulp.LpVariable(\"theta\",lowBound=0,cat=pulp.Continuous)\n",
    "    # obj\n",
    "    prob += c*buy+theta\n",
    "    # constraints\n",
    "    for s in scenarios:\n",
    "        prob += sell[s] <= buy\n",
    "        prob += sell[s] <= demand_scenario[s]\n",
    "    if iter>1:\n",
    "        prob += theta >= pulp.lpSum(proba_scenario[s]*(p*sell[s]-c*buy) for s in scenarios)\n",
    "    else:\n",
    "        prob += theta == 0\n",
    "    prob.solve()\n",
    "    return pulp.value(buy)\n",
    "\n",
    "def subsolve(buy,demand_scenario):\n",
    "    prob = pulp.LpProblem(\"sub\", pulp.LpMaximize)\n",
    "    sell = pulp.LpVariable(\"sell\",cat=pulp.LpContinuous, lowBound=0)\n",
    "    prob += p*sell-c*buy\n",
    "    prob += sell <= buy, \"c1\"\n",
    "    prob += sell <= demand_scenario, \"c2\"\n",
    "    prob.solve()\n",
    "    \n",
    "    return pulp.value(prob.objective)\n",
    "\n",
    "def L_shaped():\n",
    "    iter = 1\n",
    "    tol=1e-3\n",
    "    UB = 1000\n",
    "    LB = -1000\n",
    "    scenarios = []\n",
    "    while UB-LB>tol:\n",
    "        buy = mastersolve(scenarios, iter)\n",
    "        LB = buy\n",
    "        for s in scenarios:\n",
    "            sub_obj = subsolve(buy,demand_scenario[s])\n",
    "            UB = sub_obj"
   ]
  },
  {
   "cell_type": "markdown",
   "id": "45891557-bae4-48f2-832e-b7d37cac7c18",
   "metadata": {},
   "source": [
    "# 4. Convergence depending on nb of scenarios"
   ]
  },
  {
   "cell_type": "markdown",
   "id": "0354c793-5aa7-49e8-b231-819337535618",
   "metadata": {},
   "source": [
    "# 5. VSS vs EVPP vs EVS"
   ]
  },
  {
   "cell_type": "code",
   "execution_count": null,
   "id": "971c9d8d-105f-4d2c-86ea-71c1745a94c6",
   "metadata": {},
   "outputs": [],
   "source": []
  }
 ],
 "metadata": {
  "kernelspec": {
   "display_name": "Python 3 (ipykernel)",
   "language": "python",
   "name": "python3"
  },
  "language_info": {
   "codemirror_mode": {
    "name": "ipython",
    "version": 3
   },
   "file_extension": ".py",
   "mimetype": "text/x-python",
   "name": "python",
   "nbconvert_exporter": "python",
   "pygments_lexer": "ipython3",
   "version": "3.9.13"
  }
 },
 "nbformat": 4,
 "nbformat_minor": 5
}
