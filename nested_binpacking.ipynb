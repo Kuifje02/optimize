{
 "cells": [
  {
   "cell_type": "code",
   "execution_count": 73,
   "id": "8d7fc8fb-d8e4-473b-9bfa-6118dbd61629",
   "metadata": {},
   "outputs": [],
   "source": [
    "import pulp\n",
    "from itertools import combinations"
   ]
  },
  {
   "cell_type": "code",
   "execution_count": 82,
   "id": "20beca66-f521-4088-aadb-e51159301f81",
   "metadata": {},
   "outputs": [],
   "source": [
    "items = [\"a\",\"b\",\"c\"]\n",
    "all_combinations = list(combinations(items,1))+list(combinations(items,2))+list(combinations(items,3))\n",
    "large_omega = dict(zip(range(1,len(all_combinations)+1),all_combinations))\n",
    "small_omega = dict(zip(range(1,len(all_combinations)+1),all_combinations))\n",
    "# remove infeasible combinations at the small bin level\n",
    "del(small_omega[2])\n",
    "del(small_omega[5])"
   ]
  },
  {
   "cell_type": "code",
   "execution_count": 83,
   "id": "dcc10f6c-a7f7-42e6-ac36-a02661993883",
   "metadata": {},
   "outputs": [
    {
     "data": {
      "text/plain": [
       "({1: ('a',), 3: ('c',), 4: ('a', 'b'), 6: ('b', 'c'), 7: ('a', 'b', 'c')},\n",
       " {1: ('a',),\n",
       "  2: ('b',),\n",
       "  3: ('c',),\n",
       "  4: ('a', 'b'),\n",
       "  5: ('a', 'c'),\n",
       "  6: ('b', 'c'),\n",
       "  7: ('a', 'b', 'c')})"
      ]
     },
     "execution_count": 83,
     "metadata": {},
     "output_type": "execute_result"
    }
   ],
   "source": [
    "small_omega,large_omega"
   ]
  },
  {
   "cell_type": "code",
   "execution_count": 85,
   "id": "cd1e2927-af66-4ee6-aa7c-cb753bb12b57",
   "metadata": {},
   "outputs": [
    {
     "name": "stdout",
     "output_type": "stream",
     "text": [
      "====================================================================\n",
      "1\n",
      "large bin ('a', 'b', 'c')\n",
      "   small bin ('c',)\n",
      "   small bin ('a', 'b')\n",
      "====================================================================\n",
      "2\n",
      "large bin ('a', 'b', 'c')\n",
      "   small bin ('a',)\n",
      "   small bin ('b', 'c')\n",
      "====================================================================\n",
      "3\n",
      "large bin ('a', 'b', 'c')\n",
      "   small bin ('a', 'b', 'c')\n",
      "====================================================================\n",
      "4\n",
      "large bin ('c',)\n",
      "   small bin ('c',)\n",
      "large bin ('a', 'b')\n",
      "   small bin ('a', 'b')\n",
      "====================================================================\n",
      "5\n",
      "large bin ('a',)\n",
      "   small bin ('a',)\n",
      "large bin ('b', 'c')\n",
      "   small bin ('b', 'c')\n"
     ]
    }
   ],
   "source": [
    "prob = pulp.LpProblem(\"nested_binpacking\", pulp.LpMinimize)\n",
    "\n",
    "# x[c] = 1 <=> combination c is selected\n",
    "x_large = pulp.LpVariable.dicts(\"x_l\",large_omega.keys(),cat=pulp.LpBinary)\n",
    "x_small = pulp.LpVariable.dicts(\"x_s\",small_omega.keys(),cat=pulp.LpBinary)\n",
    "\n",
    "# objective function to order solutions by non increasing large bins\n",
    "prob += pulp.lpSum(x_large)\n",
    "\n",
    "# set partitioning constraints\n",
    "for i in items:\n",
    "    prob += pulp.lpSum(x_large[c] for c in x_large if i in large_omega[c]) == 1\n",
    "    prob += pulp.lpSum(x_small[c] for c in x_small if i in small_omega[c]) == 1\n",
    "\n",
    "# consistency constraints\n",
    "for s in small_omega:\n",
    "    prob += x_small[s] <= pulp.lpSum(x_large[l] for l in large_omega if set(small_omega[s]).issubset(set(large_omega[l])))\n",
    "for l in large_omega:\n",
    "    prob += x_large[l] <= pulp.lpSum(x_small[s] for s in small_omega if set(small_omega[s]).issubset(set(large_omega[l])))\n",
    "\n",
    "k=0\n",
    "while True:\n",
    "    k+=1\n",
    "    status = prob.solve(solver=pulp.GUROBI_CMD(timeLimit=60*1))\n",
    "    if pulp.LpStatus[status] != 'Optimal':\n",
    "        break\n",
    "    else:\n",
    "        pos_vars = []\n",
    "        zero_vars = []\n",
    "        for s in x_small:\n",
    "            val=pulp.value(x_small[s])\n",
    "            if val>0.9:\n",
    "                pos_vars.append(x_small[s])\n",
    "            else:\n",
    "                zero_vars.append(x_small[s])\n",
    "        for s in x_large:\n",
    "            val=pulp.value(x_large[s])\n",
    "            if val>0.9:\n",
    "                pos_vars.append(x_large[s])\n",
    "            else:\n",
    "                zero_vars.append(x_large[s])\n",
    "        prob += pulp.lpSum((1-x) for x in pos_vars)+pulp.lpSum(x for x in zero_vars) >= 1\n",
    "        print(\"====================================================================\")\n",
    "        print(k)\n",
    "        for t in large_omega:\n",
    "             if pulp.value(x_large[t])>0.9:\n",
    "                 print(\"large bin\",large_omega[t])\n",
    "                 for c in small_omega:\n",
    "                    if pulp.value(x_small[c])>0.9 and set(small_omega[c]).issubset(set(large_omega[t])):\n",
    "                        print(\"   small bin\",small_omega[c])"
   ]
  }
 ],
 "metadata": {
  "kernelspec": {
   "display_name": "Python 3 (ipykernel)",
   "language": "python",
   "name": "python3"
  },
  "language_info": {
   "codemirror_mode": {
    "name": "ipython",
    "version": 3
   },
   "file_extension": ".py",
   "mimetype": "text/x-python",
   "name": "python",
   "nbconvert_exporter": "python",
   "pygments_lexer": "ipython3",
   "version": "3.9.13"
  }
 },
 "nbformat": 4,
 "nbformat_minor": 5
}
