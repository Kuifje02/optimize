{
 "cells": [
  {
   "cell_type": "code",
   "execution_count": 1,
   "id": "90dce814",
   "metadata": {},
   "outputs": [],
   "source": [
    "import pulp"
   ]
  },
  {
   "cell_type": "code",
   "execution_count": 2,
   "id": "06fb5080",
   "metadata": {},
   "outputs": [],
   "source": [
    "equipes = [e for e in range(1,17)]\n",
    "jeux = [j for j in range(1,9)]\n",
    "parties = [p for p in range(1,9)]"
   ]
  },
  {
   "cell_type": "code",
   "execution_count": 47,
   "id": "20d1b2f3",
   "metadata": {},
   "outputs": [],
   "source": [
    "prob=pulp.LpProblem('olympicoles', pulp.LpMinimize)\n",
    "x=pulp.LpVariable.dicts(\"x\",(equipes,equipes,jeux,parties),cat=pulp.LpBinary)\n",
    "prob+=0\n",
    "\n",
    "# toutes les equipes doivent jouer à tous les jeux\n",
    "for u in equipes:\n",
    "    for j in jeux:\n",
    "        prob+= pulp.lpSum(x[u][v][j][p] for v in equipes for p in parties)+pulp.lpSum(x[v][u][j][p] for v in equipes for p in parties)==1\n",
    "        \n",
    "# un seul jeu par partie\n",
    "for j in jeux:\n",
    "    for p in parties:\n",
    "        prob+= pulp.lpSum(x[u][v][j][p] for u in equipes for v in equipes)==1\n",
    "\n",
    "# pas plus d'une rencontre entre 2 equipes\n",
    "for u in equipes:\n",
    "    for v in equipes:\n",
    "        prob+= pulp.lpSum(x[u][v][j][p] for j in jeux for p in parties)+pulp.lpSum(x[v][u][j][p] for j in jeux for p in parties)<=1\n",
    "        \n",
    "# à chaque partie, une équipe joue à exactement un jeu contre exactement une équipe\n",
    "for u in equipes:\n",
    "    for p in parties:\n",
    "        prob+= pulp.lpSum(x[u][v][j][p] for v in equipes for j in jeux )+pulp.lpSum(x[v][u][j][p] for v in equipes for j in jeux )==1\n",
    "\n",
    "# une equipe ne joue pas contre elle même\n",
    "for u in equipes:\n",
    "    for j in jeux:\n",
    "        for p in parties:\n",
    "            prob+= x[u][u][j][p]==0\n"
   ]
  },
  {
   "cell_type": "code",
   "execution_count": 48,
   "id": "ae918a40",
   "metadata": {},
   "outputs": [
    {
     "data": {
      "text/plain": [
       "1"
      ]
     },
     "execution_count": 48,
     "metadata": {},
     "output_type": "execute_result"
    }
   ],
   "source": [
    "prob.solve()"
   ]
  },
  {
   "cell_type": "code",
   "execution_count": 49,
   "id": "761bbfce",
   "metadata": {},
   "outputs": [
    {
     "name": "stdout",
     "output_type": "stream",
     "text": [
      "\n",
      "Partie 1\n",
      "equipe 15 contre 3 jeu 1\n",
      "equipe 6 contre 5 jeu 2\n",
      "equipe 14 contre 7 jeu 3\n",
      "equipe 2 contre 11 jeu 4\n",
      "equipe 16 contre 1 jeu 5\n",
      "equipe 12 contre 9 jeu 6\n",
      "equipe 8 contre 4 jeu 7\n",
      "equipe 10 contre 13 jeu 8\n",
      "\n",
      "Partie 2\n",
      "equipe 6 contre 16 jeu 1\n",
      "equipe 12 contre 8 jeu 2\n",
      "equipe 9 contre 15 jeu 3\n",
      "equipe 1 contre 4 jeu 4\n",
      "equipe 7 contre 13 jeu 5\n",
      "equipe 3 contre 5 jeu 6\n",
      "equipe 2 contre 10 jeu 7\n",
      "equipe 11 contre 14 jeu 8\n",
      "\n",
      "Partie 3\n",
      "equipe 4 contre 7 jeu 1\n",
      "equipe 9 contre 16 jeu 2\n",
      "equipe 2 contre 1 jeu 3\n",
      "equipe 10 contre 12 jeu 4\n",
      "equipe 3 contre 14 jeu 5\n",
      "equipe 8 contre 13 jeu 6\n",
      "equipe 5 contre 11 jeu 7\n",
      "equipe 15 contre 6 jeu 8\n",
      "\n",
      "Partie 4\n",
      "equipe 11 contre 13 jeu 1\n",
      "equipe 1 contre 15 jeu 2\n",
      "equipe 3 contre 10 jeu 3\n",
      "equipe 8 contre 14 jeu 4\n",
      "equipe 6 contre 4 jeu 5\n",
      "equipe 2 contre 16 jeu 6\n",
      "equipe 7 contre 9 jeu 7\n",
      "equipe 12 contre 5 jeu 8\n",
      "\n",
      "Partie 5\n",
      "equipe 12 contre 2 jeu 1\n",
      "equipe 3 contre 11 jeu 2\n",
      "equipe 13 contre 6 jeu 3\n",
      "equipe 5 contre 15 jeu 4\n",
      "equipe 9 contre 8 jeu 5\n",
      "equipe 10 contre 4 jeu 6\n",
      "equipe 14 contre 16 jeu 7\n",
      "equipe 7 contre 1 jeu 8\n",
      "\n",
      "Partie 6\n",
      "equipe 10 contre 14 jeu 1\n",
      "equipe 4 contre 13 jeu 2\n",
      "equipe 8 contre 5 jeu 3\n",
      "equipe 3 contre 16 jeu 4\n",
      "equipe 12 contre 11 jeu 5\n",
      "equipe 15 contre 7 jeu 6\n",
      "equipe 1 contre 6 jeu 7\n",
      "equipe 2 contre 9 jeu 8\n",
      "\n",
      "Partie 7\n",
      "equipe 5 contre 9 jeu 1\n",
      "equipe 2 contre 14 jeu 2\n",
      "equipe 12 contre 4 jeu 3\n",
      "equipe 6 contre 7 jeu 4\n",
      "equipe 15 contre 10 jeu 5\n",
      "equipe 1 contre 11 jeu 6\n",
      "equipe 13 contre 3 jeu 7\n",
      "equipe 8 contre 16 jeu 8\n",
      "\n",
      "Partie 8\n",
      "equipe 1 contre 8 jeu 1\n",
      "equipe 10 contre 7 jeu 2\n",
      "equipe 16 contre 11 jeu 3\n",
      "equipe 13 contre 9 jeu 4\n",
      "equipe 2 contre 5 jeu 5\n",
      "equipe 14 contre 6 jeu 6\n",
      "equipe 15 contre 12 jeu 7\n",
      "equipe 3 contre 4 jeu 8\n"
     ]
    }
   ],
   "source": [
    "for p in parties:\n",
    "    print()\n",
    "    print(\"Partie\",p)\n",
    "    for j in jeux:\n",
    "        for u in equipes:\n",
    "            for v in equipes:\n",
    "                val=pulp.value(x[u][v][j][p])\n",
    "                if val>0.9:\n",
    "                    print(\"equipe %s contre %s jeu %s\"%(u,v,j))"
   ]
  },
  {
   "cell_type": "code",
   "execution_count": null,
   "id": "315928d1",
   "metadata": {},
   "outputs": [],
   "source": []
  },
  {
   "cell_type": "code",
   "execution_count": null,
   "id": "6d47cb87",
   "metadata": {},
   "outputs": [],
   "source": []
  }
 ],
 "metadata": {
  "kernelspec": {
   "display_name": "Python 3 (ipykernel)",
   "language": "python",
   "name": "python3"
  },
  "language_info": {
   "codemirror_mode": {
    "name": "ipython",
    "version": 3
   },
   "file_extension": ".py",
   "mimetype": "text/x-python",
   "name": "python",
   "nbconvert_exporter": "python",
   "pygments_lexer": "ipython3",
   "version": "3.11.2"
  },
  "varInspector": {
   "cols": {
    "lenName": 16,
    "lenType": 16,
    "lenVar": 40
   },
   "kernels_config": {
    "python": {
     "delete_cmd_postfix": "",
     "delete_cmd_prefix": "del ",
     "library": "var_list.py",
     "varRefreshCmd": "print(var_dic_list())"
    },
    "r": {
     "delete_cmd_postfix": ") ",
     "delete_cmd_prefix": "rm(",
     "library": "var_list.r",
     "varRefreshCmd": "cat(var_dic_list()) "
    }
   },
   "types_to_exclude": [
    "module",
    "function",
    "builtin_function_or_method",
    "instance",
    "_Feature"
   ],
   "window_display": false
  }
 },
 "nbformat": 4,
 "nbformat_minor": 5
}
