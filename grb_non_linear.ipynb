{
 "cells": [
  {
   "cell_type": "code",
   "execution_count": 32,
   "id": "ac284154",
   "metadata": {},
   "outputs": [],
   "source": [
    "import gurobipy as gp\n",
    "from gurobipy import GRB"
   ]
  },
  {
   "cell_type": "markdown",
   "id": "7d9a2e7d",
   "metadata": {},
   "source": [
    "# Quadratic (convex)"
   ]
  },
  {
   "cell_type": "code",
   "execution_count": 48,
   "id": "5e2a2b03",
   "metadata": {},
   "outputs": [
    {
     "data": {
      "text/plain": [
       "<gurobi.Constr *Awaiting Model Update*>"
      ]
     },
     "execution_count": 48,
     "metadata": {},
     "output_type": "execute_result"
    }
   ],
   "source": [
    "# Create a new model\n",
    "m = gp.Model(\"qp\")\n",
    "\n",
    "# Create variables\n",
    "x = m.addVar(ub=1.0, name=\"x\")\n",
    "y = m.addVar(ub=1.0, name=\"y\")\n",
    "z = m.addVar(ub=1.0, name=\"z\")\n",
    "\n",
    "# Set objective: x^2 + x*y + y^2 + y*z + z^2 + 2 x\n",
    "obj = x**2 + x*y + y**2 + y*z + z**2 + 2*x\n",
    "m.setObjective(obj)\n",
    "\n",
    "# Add constraint: x + 2 y + 3 z >= 4\n",
    "m.addConstr(x + 2 * y + 3 * z >= 4, \"c0\")\n",
    "\n",
    "# Add constraint: x + y >= 1\n",
    "m.addConstr(x + y >= 1, \"c1\")"
   ]
  },
  {
   "cell_type": "code",
   "execution_count": 49,
   "id": "48827d6a",
   "metadata": {},
   "outputs": [
    {
     "name": "stdout",
     "output_type": "stream",
     "text": [
      "Minimize\n",
      "  0.0\n",
      "Subject To\n"
     ]
    }
   ],
   "source": [
    "m.display()"
   ]
  },
  {
   "cell_type": "code",
   "execution_count": 50,
   "id": "2befa163",
   "metadata": {},
   "outputs": [
    {
     "name": "stdout",
     "output_type": "stream",
     "text": [
      "Set parameter NonConvex to value 2\n",
      "Gurobi Optimizer version 10.0.2 build v10.0.2rc0 (win64)\n",
      "\n",
      "CPU model: 11th Gen Intel(R) Core(TM) i7-1185G7 @ 3.00GHz, instruction set [SSE2|AVX|AVX2|AVX512]\n",
      "Thread count: 4 physical cores, 8 logical processors, using up to 8 threads\n",
      "\n",
      "Optimize a model with 2 rows, 3 columns and 5 nonzeros\n",
      "Model fingerprint: 0xc501370b\n",
      "Model has 5 quadratic objective terms\n",
      "Coefficient statistics:\n",
      "  Matrix range     [1e+00, 3e+00]\n",
      "  Objective range  [2e+00, 2e+00]\n",
      "  QObjective range [2e+00, 2e+00]\n",
      "  Bounds range     [1e+00, 1e+00]\n",
      "  RHS range        [1e+00, 4e+00]\n",
      "Presolve time: 0.00s\n",
      "Presolved: 2 rows, 3 columns, 5 nonzeros\n",
      "Presolved model has 5 quadratic objective terms\n",
      "Ordering time: 0.00s\n",
      "\n",
      "Barrier statistics:\n",
      " Free vars  : 2\n",
      " AA' NZ     : 6.000e+00\n",
      " Factor NZ  : 1.000e+01\n",
      " Factor Ops : 3.000e+01 (less than 1 second per iteration)\n",
      " Threads    : 1\n",
      "\n",
      "                  Objective                Residual\n",
      "Iter       Primal          Dual         Primal    Dual     Compl     Time\n",
      "   0   1.69015022e+05 -1.71012100e+05  1.50e+03 3.33e+02  1.00e+06     0s\n",
      "   1   3.60255402e+04 -3.91306233e+04  2.28e+02 3.82e+01  1.20e+05     0s\n",
      "   2   4.14685168e+00 -4.40925173e+03  1.80e+00 4.00e-01  1.83e+03     0s\n",
      "   3   2.81937163e+00 -1.92736174e+03  1.80e-06 4.00e-07  2.41e+02     0s\n",
      "   4   2.81628339e+00 -1.81287557e-01  8.60e-10 1.91e-10  3.75e-01     0s\n",
      "   5   2.26977145e+00  2.06670895e+00  6.89e-12 1.53e-12  2.54e-02     0s\n",
      "   6   2.11498124e+00  2.11029644e+00  0.00e+00 2.22e-16  5.86e-04     0s\n",
      "   7   2.11111498e+00  2.11111030e+00  0.00e+00 2.50e-16  5.85e-07     0s\n",
      "   8   2.11111111e+00  2.11111111e+00  0.00e+00 4.62e-17  5.86e-10     0s\n",
      "\n",
      "Barrier solved model in 8 iterations and 0.02 seconds (0.00 work units)\n",
      "Optimal objective 2.11111111e+00\n",
      "\n"
     ]
    }
   ],
   "source": [
    "# m.Params.NonConvex = 2 # not necessary here\n",
    "m.optimize()"
   ]
  },
  {
   "cell_type": "code",
   "execution_count": 51,
   "id": "2a3159f0",
   "metadata": {},
   "outputs": [
    {
     "name": "stdout",
     "output_type": "stream",
     "text": [
      "x 3.255e-09\n",
      "y 1\n",
      "z 0.666667\n",
      "Obj: 2.11111\n"
     ]
    }
   ],
   "source": [
    "for v in m.getVars():\n",
    "    print('%s %g' % (v.VarName, v.X))\n",
    "\n",
    "print('Obj: %g' % obj.getValue())"
   ]
  },
  {
   "cell_type": "code",
   "execution_count": 47,
   "id": "8e644967",
   "metadata": {},
   "outputs": [
    {
     "name": "stdout",
     "output_type": "stream",
     "text": [
      "Minimize\n",
      "  2.0 x + [ x ^ 2 + x * y + y ^ 2 + y * z + z ^ 2 ]\n",
      "Subject To\n",
      "  c0: x + 2.0 y + 3.0 z >= 4\n",
      "  c1: x + y >= 1\n",
      "Bounds\n",
      "  0 <= x <= 1\n",
      "  0 <= y <= 1\n",
      "  0 <= z <= 1\n"
     ]
    }
   ],
   "source": [
    "m.display()"
   ]
  },
  {
   "cell_type": "code",
   "execution_count": null,
   "id": "c4bf7340",
   "metadata": {},
   "outputs": [],
   "source": [
    "x.VType = GRB.INTEGER\n",
    "y.VType = GRB.INTEGER\n",
    "z.VType = GRB.INTEGER\n",
    "\n",
    "m.optimize()\n",
    "\n",
    "for v in m.getVars():\n",
    "    print('%s %g' % (v.VarName, v.X))\n",
    "\n",
    "print('Obj: %g' % obj.getValue())"
   ]
  },
  {
   "cell_type": "markdown",
   "id": "0476d362",
   "metadata": {},
   "source": [
    "# Bilinear (non convex)"
   ]
  },
  {
   "cell_type": "code",
   "execution_count": 40,
   "id": "d142b056",
   "metadata": {},
   "outputs": [
    {
     "data": {
      "text/plain": [
       "<gurobi.QConstr Not Yet Added>"
      ]
     },
     "execution_count": 40,
     "metadata": {},
     "output_type": "execute_result"
    }
   ],
   "source": [
    "# Create a new model\n",
    "m = gp.Model(\"bilinear\")\n",
    "\n",
    "# Create variables\n",
    "x = m.addVar(name=\"x\")\n",
    "y = m.addVar(name=\"y\")\n",
    "z = m.addVar(name=\"z\")\n",
    "\n",
    "# Set objective: maximize x\n",
    "m.setObjective(1.0*x, GRB.MAXIMIZE)\n",
    "\n",
    "# Add linear constraint: x + y + z <= 10\n",
    "m.addConstr(x + y + z <= 10, \"c0\")\n",
    "\n",
    "# Add bilinear inequality constraint: x * y <= 2\n",
    "m.addConstr(x*y <= 2, \"bilinear0\")\n",
    "\n",
    "# Add bilinear equality constraint: x * z + y * z == 1\n",
    "m.addConstr(x*z + y*z == 1, \"bilinear1\")"
   ]
  },
  {
   "cell_type": "code",
   "execution_count": 41,
   "id": "0b111ac2",
   "metadata": {},
   "outputs": [
    {
     "name": "stdout",
     "output_type": "stream",
     "text": [
      "Minimize\n",
      "  0.0\n",
      "Subject To\n"
     ]
    }
   ],
   "source": [
    "m.display()"
   ]
  },
  {
   "cell_type": "code",
   "execution_count": 3,
   "id": "f7e8fbd1",
   "metadata": {},
   "outputs": [
    {
     "name": "stdout",
     "output_type": "stream",
     "text": [
      "Set parameter NonConvex to value 2\n",
      "Gurobi Optimizer version 10.0.2 build v10.0.2rc0 (win64)\n",
      "\n",
      "CPU model: 11th Gen Intel(R) Core(TM) i7-1185G7 @ 3.00GHz, instruction set [SSE2|AVX|AVX2|AVX512]\n",
      "Thread count: 4 physical cores, 8 logical processors, using up to 8 threads\n",
      "\n",
      "Optimize a model with 1 rows, 3 columns and 3 nonzeros\n",
      "Model fingerprint: 0x83663ee2\n",
      "Model has 2 quadratic constraints\n",
      "Coefficient statistics:\n",
      "  Matrix range     [1e+00, 1e+00]\n",
      "  QMatrix range    [1e+00, 1e+00]\n",
      "  Objective range  [1e+00, 1e+00]\n",
      "  Bounds range     [0e+00, 0e+00]\n",
      "  RHS range        [1e+01, 1e+01]\n",
      "  QRHS range       [1e+00, 2e+00]\n",
      "\n",
      "Continuous model is non-convex -- solving as a MIP\n",
      "\n",
      "Presolve time: 0.00s\n",
      "Presolved: 12 rows, 5 columns, 27 nonzeros\n",
      "Presolved model has 3 bilinear constraint(s)\n",
      "Variable types: 5 continuous, 0 integer (0 binary)\n",
      "\n",
      "Root relaxation: objective 9.899370e+00, 6 iterations, 0.00 seconds (0.00 work units)\n",
      "\n",
      "    Nodes    |    Current Node    |     Objective Bounds      |     Work\n",
      " Expl Unexpl |  Obj  Depth IntInf | Incumbent    BestBd   Gap | It/Node Time\n",
      "\n",
      "     0     0    9.89937    0    2          -    9.89937      -     -    0s\n",
      "H    0     0                       9.8989795    9.89937  0.00%     -    0s\n",
      "\n",
      "Explored 1 nodes (6 simplex iterations) in 0.02 seconds (0.00 work units)\n",
      "Thread count was 8 (of 8 available processors)\n",
      "\n",
      "Solution count 1: 9.89898 \n",
      "\n",
      "Optimal solution found (tolerance 1.00e-04)\n",
      "Best objective 9.898979482305e+00, best bound 9.899370277078e+00, gap 0.0039%\n"
     ]
    }
   ],
   "source": [
    "# First optimize() call will fail - need to set NonConvex to 2\n",
    "#try:\n",
    "#    m.optimize()\n",
    "#except gp.GurobiError:\n",
    "#    print(\"Optimize failed due to non-convexity\")\n",
    "\n",
    "# Solve bilinear model\n",
    "m.Params.NonConvex = 2\n",
    "m.optimize()"
   ]
  },
  {
   "cell_type": "code",
   "execution_count": 4,
   "id": "c82c3eb4",
   "metadata": {},
   "outputs": [
    {
     "name": "stdout",
     "output_type": "stream",
     "text": [
      "\n",
      "    Variable            x \n",
      "-------------------------\n",
      "           x      9.89898 \n",
      "           z     0.101021 \n"
     ]
    }
   ],
   "source": [
    "m.printAttr('x')"
   ]
  },
  {
   "cell_type": "code",
   "execution_count": 5,
   "id": "c3f76f65",
   "metadata": {},
   "outputs": [
    {
     "name": "stdout",
     "output_type": "stream",
     "text": [
      "Gurobi Optimizer version 10.0.2 build v10.0.2rc0 (win64)\n",
      "\n",
      "CPU model: 11th Gen Intel(R) Core(TM) i7-1185G7 @ 3.00GHz, instruction set [SSE2|AVX|AVX2|AVX512]\n",
      "Thread count: 4 physical cores, 8 logical processors, using up to 8 threads\n",
      "\n",
      "Optimize a model with 1 rows, 3 columns and 3 nonzeros\n",
      "Model fingerprint: 0x81133406\n",
      "Model has 2 quadratic constraints\n",
      "Variable types: 2 continuous, 1 integer (0 binary)\n",
      "Coefficient statistics:\n",
      "  Matrix range     [1e+00, 1e+00]\n",
      "  QMatrix range    [1e+00, 1e+00]\n",
      "  Objective range  [1e+00, 1e+00]\n",
      "  Bounds range     [0e+00, 0e+00]\n",
      "  RHS range        [1e+01, 1e+01]\n",
      "  QRHS range       [1e+00, 2e+00]\n",
      "\n",
      "MIP start from previous solve did not produce a new incumbent solution\n",
      "\n",
      "Presolve time: 0.00s\n",
      "Presolved: 12 rows, 5 columns, 27 nonzeros\n",
      "Presolved model has 3 bilinear constraint(s)\n",
      "Variable types: 4 continuous, 1 integer (0 binary)\n",
      "\n",
      "Root relaxation: objective 9.000000e+00, 1 iterations, 0.00 seconds (0.00 work units)\n",
      "\n",
      "    Nodes    |    Current Node    |     Objective Bounds      |     Work\n",
      " Expl Unexpl |  Obj  Depth IntInf | Incumbent    BestBd   Gap | It/Node Time\n",
      "\n",
      "*    0     0               0       9.0000000    9.00000  0.00%     -    0s\n",
      "\n",
      "Explored 1 nodes (1 simplex iterations) in 0.02 seconds (0.00 work units)\n",
      "Thread count was 8 (of 8 available processors)\n",
      "\n",
      "Solution count 1: 9 \n",
      "\n",
      "Optimal solution found (tolerance 1.00e-04)\n",
      "Best objective 9.000000000000e+00, best bound 9.000000000000e+00, gap 0.0000%\n",
      "\n",
      "    Variable            x \n",
      "-------------------------\n",
      "           x            9 \n",
      "           z     0.111111 \n"
     ]
    }
   ],
   "source": [
    "# Constrain 'x' to be integral and solve again\n",
    "x.VType = GRB.INTEGER\n",
    "m.optimize()\n",
    "m.printAttr('x')"
   ]
  },
  {
   "cell_type": "code",
   "execution_count": 7,
   "id": "cca3ceb7",
   "metadata": {},
   "outputs": [
    {
     "data": {
      "text/plain": [
       "['BarIterCount',\n",
       " 'BoundSVio',\n",
       " 'BoundSVioIndex',\n",
       " 'BoundSVioSum',\n",
       " 'BoundVio',\n",
       " 'BoundVioIndex',\n",
       " 'BoundVioSum',\n",
       " 'ComplVio',\n",
       " 'ComplVioIndex',\n",
       " 'ComplVioSum',\n",
       " 'ConcurrentWinMethod',\n",
       " 'ConcurrentWinner',\n",
       " 'ConstrResidual',\n",
       " 'ConstrResidualIndex',\n",
       " 'ConstrResidualSum',\n",
       " 'ConstrSResidual',\n",
       " 'ConstrSResidualIndex',\n",
       " 'ConstrSResidualSum',\n",
       " 'ConstrSVio',\n",
       " 'ConstrSVioIndex',\n",
       " 'ConstrSVioSum',\n",
       " 'ConstrVio',\n",
       " 'ConstrVioIndex',\n",
       " 'ConstrVioSum',\n",
       " 'DNumNZs',\n",
       " 'DualResidual',\n",
       " 'DualResidualIndex',\n",
       " 'DualResidualSum',\n",
       " 'DualSResidual',\n",
       " 'DualSResidualIndex',\n",
       " 'DualSResidualSum',\n",
       " 'DualSVio',\n",
       " 'DualSVioIndex',\n",
       " 'DualSVioSum',\n",
       " 'DualVio',\n",
       " 'DualVioIndex',\n",
       " 'DualVioSum',\n",
       " 'FarkasProof',\n",
       " 'Fingerprint',\n",
       " 'FirstSolNode',\n",
       " 'HasDualNorm',\n",
       " 'IISMinimal',\n",
       " 'InfeasVar',\n",
       " 'IntVio',\n",
       " 'IntVioIndex',\n",
       " 'IntVioSum',\n",
       " 'IsMIP',\n",
       " 'IsMultiObj',\n",
       " 'IsQCP',\n",
       " 'IsQP',\n",
       " 'IterCount',\n",
       " 'IterCount0',\n",
       " 'Kappa',\n",
       " 'KappaExact',\n",
       " 'LicenseExpiration',\n",
       " 'MIPGap',\n",
       " 'MaxBound',\n",
       " 'MaxCoeff',\n",
       " 'MaxObjCoeff',\n",
       " 'MaxQCCoeff',\n",
       " 'MaxQCLCoeff',\n",
       " 'MaxQCRHS',\n",
       " 'MaxQObjCoeff',\n",
       " 'MaxRHS',\n",
       " 'MaxVio',\n",
       " 'MinBound',\n",
       " 'MinCoeff',\n",
       " 'MinObjCoeff',\n",
       " 'MinQCCoeff',\n",
       " 'MinQCLCoeff',\n",
       " 'MinQCRHS',\n",
       " 'MinQObjCoeff',\n",
       " 'MinRHS',\n",
       " 'ModelName',\n",
       " 'ModelSense',\n",
       " 'N2Kappa',\n",
       " 'NodeCount',\n",
       " 'NumBinVars',\n",
       " 'NumConstrs',\n",
       " 'NumGenConstrs',\n",
       " 'NumIntVars',\n",
       " 'NumNZs',\n",
       " 'NumObj',\n",
       " 'NumPWLObjVars',\n",
       " 'NumQCNZs',\n",
       " 'NumQConstrs',\n",
       " 'NumQNZs',\n",
       " 'NumSOS',\n",
       " 'NumScenarios',\n",
       " 'NumStart',\n",
       " 'NumTagged',\n",
       " 'NumVars',\n",
       " 'ObjBound',\n",
       " 'ObjBoundC',\n",
       " 'ObjCon',\n",
       " 'ObjNAbsTol',\n",
       " 'ObjNCon',\n",
       " 'ObjNName',\n",
       " 'ObjNPriority',\n",
       " 'ObjNRelTol',\n",
       " 'ObjNVal',\n",
       " 'ObjNWeight',\n",
       " 'ObjVal',\n",
       " 'OpenNodeCount',\n",
       " 'Params',\n",
       " 'PoolObjBound',\n",
       " 'PoolObjVal',\n",
       " 'RunVTime',\n",
       " 'Runtime',\n",
       " 'ScenNName',\n",
       " 'ScenNObjBound',\n",
       " 'ScenNObjVal',\n",
       " 'SolCount',\n",
       " 'Status',\n",
       " 'TOpen',\n",
       " 'TuneResultCount',\n",
       " 'UnbdVar',\n",
       " 'Work',\n",
       " '_Model__addConstr',\n",
       " '_Model__cbCutOrLazy',\n",
       " '_Model__constrs',\n",
       " '_Model__delconstrs',\n",
       " '_Model__delvars',\n",
       " '_Model__feasrelax',\n",
       " '_Model__genconstrs',\n",
       " '_Model__genexpr_key',\n",
       " '_Model__getConstr',\n",
       " '_Model__getGenConstr',\n",
       " '_Model__getQConstr',\n",
       " '_Model__getSOS',\n",
       " '_Model__getVar',\n",
       " '_Model__getupdatemode',\n",
       " '_Model__indexname',\n",
       " '_Model__isAttrAvailable',\n",
       " '_Model__listify',\n",
       " '_Model__liveconstrs',\n",
       " '_Model__livevars',\n",
       " '_Model__newranges',\n",
       " '_Model__qconstrs',\n",
       " '_Model__setup',\n",
       " '_Model__sos',\n",
       " '_Model__updatemode',\n",
       " '_Model__vars',\n",
       " '__class__',\n",
       " '__del__',\n",
       " '__delattr__',\n",
       " '__dict__',\n",
       " '__dir__',\n",
       " '__doc__',\n",
       " '__enter__',\n",
       " '__eq__',\n",
       " '__exit__',\n",
       " '__format__',\n",
       " '__ge__',\n",
       " '__getattr__',\n",
       " '__getattribute__',\n",
       " '__getstate__',\n",
       " '__gt__',\n",
       " '__hash__',\n",
       " '__init__',\n",
       " '__init_subclass__',\n",
       " '__le__',\n",
       " '__lt__',\n",
       " '__module__',\n",
       " '__ne__',\n",
       " '__new__',\n",
       " '__reduce__',\n",
       " '__reduce_ex__',\n",
       " '__repr__',\n",
       " '__setattr__',\n",
       " '__sizeof__',\n",
       " '__str__',\n",
       " '__subclasshook__',\n",
       " '__weakref__',\n",
       " '_addNDConstr',\n",
       " '_addNDQConstr',\n",
       " '_callback',\n",
       " '_cmodel',\n",
       " '_createX',\n",
       " '_env',\n",
       " '_getConstrName',\n",
       " '_map_coldata_to_vars',\n",
       " '_nd_indexed_names',\n",
       " '_owns',\n",
       " '_removeone',\n",
       " '_setMObjectiveN',\n",
       " '_splitlongmessage',\n",
       " '_typeenum',\n",
       " '_typename',\n",
       " '_uenv',\n",
       " '_v811_setMObjective',\n",
       " 'addConstr',\n",
       " 'addConstrs',\n",
       " 'addGenConstrAbs',\n",
       " 'addGenConstrAnd',\n",
       " 'addGenConstrCos',\n",
       " 'addGenConstrExp',\n",
       " 'addGenConstrExpA',\n",
       " 'addGenConstrIndicator',\n",
       " 'addGenConstrLog',\n",
       " 'addGenConstrLogA',\n",
       " 'addGenConstrLogistic',\n",
       " 'addGenConstrMax',\n",
       " 'addGenConstrMin',\n",
       " 'addGenConstrNorm',\n",
       " 'addGenConstrOr',\n",
       " 'addGenConstrPWL',\n",
       " 'addGenConstrPoly',\n",
       " 'addGenConstrPow',\n",
       " 'addGenConstrSin',\n",
       " 'addGenConstrTan',\n",
       " 'addLConstr',\n",
       " 'addMConstr',\n",
       " 'addMQConstr',\n",
       " 'addMVar',\n",
       " 'addQConstr',\n",
       " 'addRange',\n",
       " 'addSOS',\n",
       " 'addVar',\n",
       " 'addVars',\n",
       " 'cbCut',\n",
       " 'cbGet',\n",
       " 'cbGetNodeRel',\n",
       " 'cbGetSolution',\n",
       " 'cbLazy',\n",
       " 'cbProceed',\n",
       " 'cbSetSolution',\n",
       " 'cbStopOneMultiObj',\n",
       " 'cbUseSolution',\n",
       " 'chgCoeff',\n",
       " 'close',\n",
       " 'computeIIS',\n",
       " 'copy',\n",
       " 'discardConcurrentEnvs',\n",
       " 'discardMultiobjEnvs',\n",
       " 'display',\n",
       " 'dispose',\n",
       " 'dualize',\n",
       " 'feasRelax',\n",
       " 'feasRelaxS',\n",
       " 'feasibility',\n",
       " 'fixTuneParam',\n",
       " 'fixed',\n",
       " 'getA',\n",
       " 'getAttr',\n",
       " 'getCoeff',\n",
       " 'getCol',\n",
       " 'getConcurrentEnv',\n",
       " 'getConstrByName',\n",
       " 'getConstrs',\n",
       " 'getGenConstrAbs',\n",
       " 'getGenConstrAnd',\n",
       " 'getGenConstrCos',\n",
       " 'getGenConstrExp',\n",
       " 'getGenConstrExpA',\n",
       " 'getGenConstrIndicator',\n",
       " 'getGenConstrLog',\n",
       " 'getGenConstrLogA',\n",
       " 'getGenConstrLogistic',\n",
       " 'getGenConstrMax',\n",
       " 'getGenConstrMin',\n",
       " 'getGenConstrNorm',\n",
       " 'getGenConstrOr',\n",
       " 'getGenConstrPWL',\n",
       " 'getGenConstrPoly',\n",
       " 'getGenConstrPow',\n",
       " 'getGenConstrSin',\n",
       " 'getGenConstrTan',\n",
       " 'getGenConstrs',\n",
       " 'getJSONSolution',\n",
       " 'getMultiobjEnv',\n",
       " 'getObjective',\n",
       " 'getPWLObj',\n",
       " 'getParamInfo',\n",
       " 'getQ',\n",
       " 'getQCRow',\n",
       " 'getQConstrs',\n",
       " 'getRow',\n",
       " 'getSOS',\n",
       " 'getSOSs',\n",
       " 'getTuneResult',\n",
       " 'getVarByName',\n",
       " 'getVars',\n",
       " 'linearize',\n",
       " 'message',\n",
       " 'optimize',\n",
       " 'optimizeBatch',\n",
       " 'params',\n",
       " 'prefetchAttr',\n",
       " 'presolve',\n",
       " 'printAttr',\n",
       " 'printQuality',\n",
       " 'printStats',\n",
       " 'read',\n",
       " 'relax',\n",
       " 'remove',\n",
       " 'reset',\n",
       " 'resetParams',\n",
       " 'setAttr',\n",
       " 'setMObjective',\n",
       " 'setObjective',\n",
       " 'setObjectiveN',\n",
       " 'setPWLObj',\n",
       " 'setParam',\n",
       " 'singleScenarioModel',\n",
       " 'terminate',\n",
       " 'tune',\n",
       " 'update',\n",
       " 'write']"
      ]
     },
     "execution_count": 7,
     "metadata": {},
     "output_type": "execute_result"
    }
   ],
   "source": [
    "dir(m)"
   ]
  },
  {
   "cell_type": "code",
   "execution_count": 10,
   "id": "506f6310",
   "metadata": {},
   "outputs": [
    {
     "data": {
      "text/plain": [
       "1"
      ]
     },
     "execution_count": 10,
     "metadata": {},
     "output_type": "execute_result"
    }
   ],
   "source": [
    "m.NumConstrs"
   ]
  },
  {
   "cell_type": "code",
   "execution_count": 11,
   "id": "c3b2540f",
   "metadata": {},
   "outputs": [
    {
     "data": {
      "text/plain": [
       "1"
      ]
     },
     "execution_count": 11,
     "metadata": {},
     "output_type": "execute_result"
    }
   ],
   "source": [
    "m.IsMIP"
   ]
  },
  {
   "cell_type": "code",
   "execution_count": 12,
   "id": "599bc7ef",
   "metadata": {},
   "outputs": [
    {
     "name": "stdout",
     "output_type": "stream",
     "text": [
      "Maximize\n",
      "  x\n",
      "Subject To\n",
      "  c0: x + y + z <= 10\n",
      "  bilinear0: 0.0 + [ x * y ] <= 2\n",
      "  bilinear1: 0.0 + [ x * z + y * z ] >= 1\n",
      "General Integers\n",
      "  ['x']\n"
     ]
    }
   ],
   "source": [
    "m.display()"
   ]
  },
  {
   "cell_type": "code",
   "execution_count": 13,
   "id": "276794e3",
   "metadata": {},
   "outputs": [],
   "source": [
    "m.write(\"non_linear.lp\")"
   ]
  },
  {
   "cell_type": "markdown",
   "id": "4da36168",
   "metadata": {},
   "source": [
    "# PuLP (does not work for non linear problems)"
   ]
  },
  {
   "cell_type": "code",
   "execution_count": null,
   "id": "612b830e",
   "metadata": {},
   "outputs": [],
   "source": [
    "import pulp"
   ]
  },
  {
   "cell_type": "code",
   "execution_count": 15,
   "id": "28c57023",
   "metadata": {},
   "outputs": [],
   "source": [
    "prob=pulp.LpProblem(\"test\",pulp.LpMaximize)"
   ]
  },
  {
   "cell_type": "code",
   "execution_count": 18,
   "id": "52f1f32a",
   "metadata": {},
   "outputs": [],
   "source": [
    "x=pulp.LpVariable(\"x\",lowBound=0,upBound=5,cat=pulp.LpContinuous)"
   ]
  },
  {
   "cell_type": "code",
   "execution_count": 25,
   "id": "cff28f36",
   "metadata": {},
   "outputs": [],
   "source": [
    "prob+= x\n",
    "prob+= x+3<=3"
   ]
  },
  {
   "cell_type": "code",
   "execution_count": 20,
   "id": "15277701",
   "metadata": {},
   "outputs": [
    {
     "data": {
      "text/plain": [
       "test:\n",
       "MAXIMIZE\n",
       "1*x + 0\n",
       "SUBJECT TO\n",
       "_C1: x <= 0\n",
       "\n",
       "VARIABLES\n",
       "x <= 5 Continuous"
      ]
     },
     "execution_count": 20,
     "metadata": {},
     "output_type": "execute_result"
    }
   ],
   "source": [
    "prob"
   ]
  },
  {
   "cell_type": "code",
   "execution_count": 21,
   "id": "b2b52684",
   "metadata": {},
   "outputs": [
    {
     "data": {
      "text/plain": [
       "1"
      ]
     },
     "execution_count": 21,
     "metadata": {},
     "output_type": "execute_result"
    }
   ],
   "source": [
    "prob.solve()"
   ]
  },
  {
   "cell_type": "code",
   "execution_count": null,
   "id": "7eddc94d",
   "metadata": {},
   "outputs": [],
   "source": []
  }
 ],
 "metadata": {
  "kernelspec": {
   "display_name": "Python 3 (ipykernel)",
   "language": "python",
   "name": "python3"
  },
  "language_info": {
   "codemirror_mode": {
    "name": "ipython",
    "version": 3
   },
   "file_extension": ".py",
   "mimetype": "text/x-python",
   "name": "python",
   "nbconvert_exporter": "python",
   "pygments_lexer": "ipython3",
   "version": "3.11.2"
  },
  "varInspector": {
   "cols": {
    "lenName": 16,
    "lenType": 16,
    "lenVar": 40
   },
   "kernels_config": {
    "python": {
     "delete_cmd_postfix": "",
     "delete_cmd_prefix": "del ",
     "library": "var_list.py",
     "varRefreshCmd": "print(var_dic_list())"
    },
    "r": {
     "delete_cmd_postfix": ") ",
     "delete_cmd_prefix": "rm(",
     "library": "var_list.r",
     "varRefreshCmd": "cat(var_dic_list()) "
    }
   },
   "types_to_exclude": [
    "module",
    "function",
    "builtin_function_or_method",
    "instance",
    "_Feature"
   ],
   "window_display": false
  }
 },
 "nbformat": 4,
 "nbformat_minor": 5
}
