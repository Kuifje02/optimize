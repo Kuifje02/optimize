{
 "cells": [
  {
   "cell_type": "code",
   "execution_count": 1,
   "id": "7cdb47c2-1e8b-4bda-b609-6f992ce43a69",
   "metadata": {},
   "outputs": [],
   "source": [
    "import pulp"
   ]
  },
  {
   "cell_type": "code",
   "execution_count": 3,
   "id": "314d7460-fe93-42f3-9974-555ef32b45e4",
   "metadata": {},
   "outputs": [],
   "source": [
    "# data\n",
    "cells = [1,2,3,4,5]\n",
    "digits = [n for n in range(10)]\n",
    "\n",
    "# trials\n",
    "#90342 ;2 correct\n",
    "#70794 ;0 correct\n",
    "#39458 ;2 correct\n",
    "#34109 ;1 correct\n",
    "#51545 ;2 correct\n",
    "#12531 ;1 correct"
   ]
  },
  {
   "cell_type": "code",
   "execution_count": 5,
   "id": "1988ac90-9f0b-4fd9-b1aa-7fff9a5ded25",
   "metadata": {},
   "outputs": [
    {
     "data": {
      "text/plain": [
       "1"
      ]
     },
     "execution_count": 5,
     "metadata": {},
     "output_type": "execute_result"
    }
   ],
   "source": [
    "# create problem\n",
    "prob = pulp.LpProblem(\"lock\", pulp.LpMaximize)\n",
    "\n",
    "# variables\n",
    "x = pulp.LpVariable.dicts(\"x\",(cells,digits),cat=pulp.LpBinary)\n",
    "\n",
    "# obj\n",
    "prob += 0\n",
    "\n",
    "# each cell has 1 digit\n",
    "for c in cells:\n",
    "    prob += pulp.lpSum(x[c][d] for d in digits) == 1\n",
    "\n",
    "# trials\n",
    "prob += x[1][9] + x[2][0] + x[3][3] + x[4][4] + x[5][2] == 2\n",
    "prob += x[1][7] + x[2][0] + x[3][7] + x[4][9] + x[5][4] == 0\n",
    "prob += x[1][3] + x[2][9] + x[3][4] + x[4][5] + x[5][8] == 2\n",
    "prob += x[1][3] + x[2][4] + x[3][1] + x[4][0] + x[5][9] == 1\n",
    "prob += x[1][5] + x[2][1] + x[3][5] + x[4][4] + x[5][5] == 2\n",
    "prob += x[1][1] + x[2][2] + x[3][5] + x[4][3] + x[5][1] == 1\n",
    "\n",
    "prob.solve()"
   ]
  },
  {
   "cell_type": "code",
   "execution_count": 6,
   "id": "03cc9356-598e-4639-8b7d-24f0b01f8f9d",
   "metadata": {},
   "outputs": [
    {
     "name": "stdout",
     "output_type": "stream",
     "text": [
      "3\n",
      "9\n",
      "5\n",
      "4\n",
      "2\n"
     ]
    }
   ],
   "source": [
    "for i in x:\n",
    "    for j in x[i]:\n",
    "        if pulp.value(x[i][j]) > 0.9:\n",
    "            print(j)"
   ]
  },
  {
   "cell_type": "code",
   "execution_count": null,
   "id": "b78d0f8c-588b-4133-88ca-a1f2461dbdeb",
   "metadata": {},
   "outputs": [],
   "source": []
  }
 ],
 "metadata": {
  "kernelspec": {
   "display_name": "Python 3 (ipykernel)",
   "language": "python",
   "name": "python3"
  },
  "language_info": {
   "codemirror_mode": {
    "name": "ipython",
    "version": 3
   },
   "file_extension": ".py",
   "mimetype": "text/x-python",
   "name": "python",
   "nbconvert_exporter": "python",
   "pygments_lexer": "ipython3",
   "version": "3.9.13"
  }
 },
 "nbformat": 4,
 "nbformat_minor": 5
}
